{
 "cells": [
  {
   "cell_type": "code",
   "execution_count": 57,
   "id": "f1e9343a",
   "metadata": {},
   "outputs": [],
   "source": [
    "import pandas as pd\n",
    "import numpy as np\n",
    "import matplotlib.pyplot as plt\n",
    "import seaborn as sns\n",
    "from sklearn.cluster import KMeans\n",
    "from sklearn.metrics import silhouette_score\n",
    "from sklearn.metrics import davies_bouldin_score\n",
    "from sklearn.preprocessing import MinMaxScaler\n",
    "from apyori import apriori"
   ]
  },
  {
   "cell_type": "markdown",
   "id": "b46f7e5c",
   "metadata": {},
   "source": [
    "# Merapikan dataset Mahasiswa"
   ]
  },
  {
   "cell_type": "code",
   "execution_count": 2,
   "id": "007d5a92",
   "metadata": {},
   "outputs": [
    {
     "data": {
      "text/html": [
       "<div>\n",
       "<style scoped>\n",
       "    .dataframe tbody tr th:only-of-type {\n",
       "        vertical-align: middle;\n",
       "    }\n",
       "\n",
       "    .dataframe tbody tr th {\n",
       "        vertical-align: top;\n",
       "    }\n",
       "\n",
       "    .dataframe thead th {\n",
       "        text-align: right;\n",
       "    }\n",
       "</style>\n",
       "<table border=\"1\" class=\"dataframe\">\n",
       "  <thead>\n",
       "    <tr style=\"text-align: right;\">\n",
       "      <th></th>\n",
       "      <th>NIM</th>\n",
       "      <th>ANGKATAN</th>\n",
       "      <th>SEMESTER</th>\n",
       "      <th>KODE_MK</th>\n",
       "      <th>NAMA_MK</th>\n",
       "      <th>SKS</th>\n",
       "      <th>NILAI</th>\n",
       "      <th>GRADE</th>\n",
       "    </tr>\n",
       "  </thead>\n",
       "  <tbody>\n",
       "    <tr>\n",
       "      <th>0</th>\n",
       "      <td>10110310004</td>\n",
       "      <td>2010</td>\n",
       "      <td>1011</td>\n",
       "      <td>UM151</td>\n",
       "      <td>Agama</td>\n",
       "      <td>3</td>\n",
       "      <td>70.0</td>\n",
       "      <td>B</td>\n",
       "    </tr>\n",
       "    <tr>\n",
       "      <th>1</th>\n",
       "      <td>10110310008</td>\n",
       "      <td>2010</td>\n",
       "      <td>1011</td>\n",
       "      <td>UM151</td>\n",
       "      <td>Agama</td>\n",
       "      <td>3</td>\n",
       "      <td>71.0</td>\n",
       "      <td>B</td>\n",
       "    </tr>\n",
       "    <tr>\n",
       "      <th>2</th>\n",
       "      <td>10110310011</td>\n",
       "      <td>2010</td>\n",
       "      <td>1011</td>\n",
       "      <td>UM151</td>\n",
       "      <td>Agama</td>\n",
       "      <td>3</td>\n",
       "      <td>55.0</td>\n",
       "      <td>NaN</td>\n",
       "    </tr>\n",
       "    <tr>\n",
       "      <th>3</th>\n",
       "      <td>10110310013</td>\n",
       "      <td>2010</td>\n",
       "      <td>1011</td>\n",
       "      <td>UM151</td>\n",
       "      <td>Agama</td>\n",
       "      <td>3</td>\n",
       "      <td>73.0</td>\n",
       "      <td>B</td>\n",
       "    </tr>\n",
       "    <tr>\n",
       "      <th>4</th>\n",
       "      <td>10110310017</td>\n",
       "      <td>2010</td>\n",
       "      <td>1011</td>\n",
       "      <td>UM151</td>\n",
       "      <td>Agama</td>\n",
       "      <td>3</td>\n",
       "      <td>70.0</td>\n",
       "      <td>NaN</td>\n",
       "    </tr>\n",
       "  </tbody>\n",
       "</table>\n",
       "</div>"
      ],
      "text/plain": [
       "           NIM  ANGKATAN  SEMESTER KODE_MK NAMA_MK  SKS  NILAI GRADE\n",
       "0  10110310004      2010      1011   UM151   Agama    3   70.0     B\n",
       "1  10110310008      2010      1011   UM151   Agama    3   71.0     B\n",
       "2  10110310011      2010      1011   UM151   Agama    3   55.0   NaN\n",
       "3  10110310013      2010      1011   UM151   Agama    3   73.0     B\n",
       "4  10110310017      2010      1011   UM151   Agama    3   70.0   NaN"
      ]
     },
     "execution_count": 2,
     "metadata": {},
     "output_type": "execute_result"
    }
   ],
   "source": [
    "df = pd.read_csv('Dataset1_TranscriptMahasiswa.csv')\n",
    "df.head()"
   ]
  },
  {
   "cell_type": "code",
   "execution_count": 3,
   "id": "61962baa",
   "metadata": {},
   "outputs": [],
   "source": [
    "df.rename(\n",
    "    columns=({'NILAI':'NILAI MAHASISWA'}),\n",
    "    inplace =True\n",
    ")"
   ]
  },
  {
   "cell_type": "code",
   "execution_count": 4,
   "id": "db8146f5",
   "metadata": {},
   "outputs": [
    {
     "name": "stdout",
     "output_type": "stream",
     "text": [
      "<class 'pandas.core.frame.DataFrame'>\n",
      "RangeIndex: 30870 entries, 0 to 30869\n",
      "Data columns (total 8 columns):\n",
      " #   Column           Non-Null Count  Dtype  \n",
      "---  ------           --------------  -----  \n",
      " 0   NIM              30870 non-null  int64  \n",
      " 1   ANGKATAN         30870 non-null  int64  \n",
      " 2   SEMESTER         30870 non-null  int64  \n",
      " 3   KODE_MK          30870 non-null  object \n",
      " 4   NAMA_MK          30847 non-null  object \n",
      " 5   SKS              30870 non-null  int64  \n",
      " 6   NILAI MAHASISWA  30858 non-null  float64\n",
      " 7   GRADE            30318 non-null  object \n",
      "dtypes: float64(1), int64(4), object(3)\n",
      "memory usage: 1.9+ MB\n"
     ]
    }
   ],
   "source": [
    "df.info()"
   ]
  },
  {
   "cell_type": "markdown",
   "id": "fcb6a82b",
   "metadata": {},
   "source": [
    "# Menangani Missing Value dataset mahasiswa"
   ]
  },
  {
   "cell_type": "code",
   "execution_count": 5,
   "id": "c37cd8c1",
   "metadata": {},
   "outputs": [
    {
     "data": {
      "text/plain": [
       "NIM                  0\n",
       "ANGKATAN             0\n",
       "SEMESTER             0\n",
       "KODE_MK              0\n",
       "NAMA_MK             23\n",
       "SKS                  0\n",
       "NILAI MAHASISWA     12\n",
       "GRADE              552\n",
       "dtype: int64"
      ]
     },
     "execution_count": 5,
     "metadata": {},
     "output_type": "execute_result"
    }
   ],
   "source": [
    "df.isna().sum()"
   ]
  },
  {
   "cell_type": "code",
   "execution_count": 6,
   "id": "9a35173c",
   "metadata": {},
   "outputs": [
    {
     "data": {
      "text/html": [
       "<div>\n",
       "<style scoped>\n",
       "    .dataframe tbody tr th:only-of-type {\n",
       "        vertical-align: middle;\n",
       "    }\n",
       "\n",
       "    .dataframe tbody tr th {\n",
       "        vertical-align: top;\n",
       "    }\n",
       "\n",
       "    .dataframe thead th {\n",
       "        text-align: right;\n",
       "    }\n",
       "</style>\n",
       "<table border=\"1\" class=\"dataframe\">\n",
       "  <thead>\n",
       "    <tr style=\"text-align: right;\">\n",
       "      <th></th>\n",
       "      <th>NIM</th>\n",
       "      <th>ANGKATAN</th>\n",
       "      <th>SEMESTER</th>\n",
       "      <th>KODE_MK</th>\n",
       "      <th>NAMA_MK</th>\n",
       "      <th>SKS</th>\n",
       "      <th>NILAI MAHASISWA</th>\n",
       "      <th>GRADE</th>\n",
       "    </tr>\n",
       "  </thead>\n",
       "  <tbody>\n",
       "    <tr>\n",
       "      <th>0</th>\n",
       "      <td>10110310004</td>\n",
       "      <td>2010</td>\n",
       "      <td>1011</td>\n",
       "      <td>UM151</td>\n",
       "      <td>Agama</td>\n",
       "      <td>3</td>\n",
       "      <td>70.0</td>\n",
       "      <td>B</td>\n",
       "    </tr>\n",
       "    <tr>\n",
       "      <th>1</th>\n",
       "      <td>10110310008</td>\n",
       "      <td>2010</td>\n",
       "      <td>1011</td>\n",
       "      <td>UM151</td>\n",
       "      <td>Agama</td>\n",
       "      <td>3</td>\n",
       "      <td>71.0</td>\n",
       "      <td>B</td>\n",
       "    </tr>\n",
       "    <tr>\n",
       "      <th>2</th>\n",
       "      <td>10110310011</td>\n",
       "      <td>2010</td>\n",
       "      <td>1011</td>\n",
       "      <td>UM151</td>\n",
       "      <td>Agama</td>\n",
       "      <td>3</td>\n",
       "      <td>55.0</td>\n",
       "      <td>C</td>\n",
       "    </tr>\n",
       "    <tr>\n",
       "      <th>3</th>\n",
       "      <td>10110310013</td>\n",
       "      <td>2010</td>\n",
       "      <td>1011</td>\n",
       "      <td>UM151</td>\n",
       "      <td>Agama</td>\n",
       "      <td>3</td>\n",
       "      <td>73.0</td>\n",
       "      <td>B</td>\n",
       "    </tr>\n",
       "    <tr>\n",
       "      <th>4</th>\n",
       "      <td>10110310017</td>\n",
       "      <td>2010</td>\n",
       "      <td>1011</td>\n",
       "      <td>UM151</td>\n",
       "      <td>Agama</td>\n",
       "      <td>3</td>\n",
       "      <td>70.0</td>\n",
       "      <td>B</td>\n",
       "    </tr>\n",
       "    <tr>\n",
       "      <th>5</th>\n",
       "      <td>10110310022</td>\n",
       "      <td>2010</td>\n",
       "      <td>1011</td>\n",
       "      <td>UM151</td>\n",
       "      <td>Agama</td>\n",
       "      <td>3</td>\n",
       "      <td>73.0</td>\n",
       "      <td>B</td>\n",
       "    </tr>\n",
       "    <tr>\n",
       "      <th>6</th>\n",
       "      <td>10110310028</td>\n",
       "      <td>2010</td>\n",
       "      <td>1011</td>\n",
       "      <td>UM151</td>\n",
       "      <td>Agama</td>\n",
       "      <td>3</td>\n",
       "      <td>71.0</td>\n",
       "      <td>B</td>\n",
       "    </tr>\n",
       "    <tr>\n",
       "      <th>7</th>\n",
       "      <td>10110310032</td>\n",
       "      <td>2010</td>\n",
       "      <td>1011</td>\n",
       "      <td>UM151</td>\n",
       "      <td>Agama</td>\n",
       "      <td>3</td>\n",
       "      <td>70.0</td>\n",
       "      <td>B</td>\n",
       "    </tr>\n",
       "    <tr>\n",
       "      <th>8</th>\n",
       "      <td>10110310034</td>\n",
       "      <td>2010</td>\n",
       "      <td>1011</td>\n",
       "      <td>UM151</td>\n",
       "      <td>Agama</td>\n",
       "      <td>3</td>\n",
       "      <td>72.0</td>\n",
       "      <td>B</td>\n",
       "    </tr>\n",
       "    <tr>\n",
       "      <th>9</th>\n",
       "      <td>10110310036</td>\n",
       "      <td>2010</td>\n",
       "      <td>1011</td>\n",
       "      <td>UM151</td>\n",
       "      <td>Agama</td>\n",
       "      <td>3</td>\n",
       "      <td>74.0</td>\n",
       "      <td>B</td>\n",
       "    </tr>\n",
       "    <tr>\n",
       "      <th>10</th>\n",
       "      <td>10110310037</td>\n",
       "      <td>2010</td>\n",
       "      <td>1011</td>\n",
       "      <td>UM151</td>\n",
       "      <td>Agama</td>\n",
       "      <td>3</td>\n",
       "      <td>70.0</td>\n",
       "      <td>B</td>\n",
       "    </tr>\n",
       "    <tr>\n",
       "      <th>11</th>\n",
       "      <td>10110310040</td>\n",
       "      <td>2010</td>\n",
       "      <td>1011</td>\n",
       "      <td>UM151</td>\n",
       "      <td>Agama</td>\n",
       "      <td>3</td>\n",
       "      <td>72.0</td>\n",
       "      <td>B</td>\n",
       "    </tr>\n",
       "    <tr>\n",
       "      <th>12</th>\n",
       "      <td>10110310044</td>\n",
       "      <td>2010</td>\n",
       "      <td>1011</td>\n",
       "      <td>UM151</td>\n",
       "      <td>Agama</td>\n",
       "      <td>3</td>\n",
       "      <td>99.0</td>\n",
       "      <td>A</td>\n",
       "    </tr>\n",
       "    <tr>\n",
       "      <th>13</th>\n",
       "      <td>10110310045</td>\n",
       "      <td>2010</td>\n",
       "      <td>1011</td>\n",
       "      <td>UM151</td>\n",
       "      <td>Agama</td>\n",
       "      <td>3</td>\n",
       "      <td>73.0</td>\n",
       "      <td>B</td>\n",
       "    </tr>\n",
       "    <tr>\n",
       "      <th>14</th>\n",
       "      <td>10110310047</td>\n",
       "      <td>2010</td>\n",
       "      <td>1011</td>\n",
       "      <td>UM151</td>\n",
       "      <td>Agama</td>\n",
       "      <td>3</td>\n",
       "      <td>97.0</td>\n",
       "      <td>A</td>\n",
       "    </tr>\n",
       "  </tbody>\n",
       "</table>\n",
       "</div>"
      ],
      "text/plain": [
       "            NIM  ANGKATAN  SEMESTER KODE_MK NAMA_MK  SKS  NILAI MAHASISWA  \\\n",
       "0   10110310004      2010      1011   UM151   Agama    3             70.0   \n",
       "1   10110310008      2010      1011   UM151   Agama    3             71.0   \n",
       "2   10110310011      2010      1011   UM151   Agama    3             55.0   \n",
       "3   10110310013      2010      1011   UM151   Agama    3             73.0   \n",
       "4   10110310017      2010      1011   UM151   Agama    3             70.0   \n",
       "5   10110310022      2010      1011   UM151   Agama    3             73.0   \n",
       "6   10110310028      2010      1011   UM151   Agama    3             71.0   \n",
       "7   10110310032      2010      1011   UM151   Agama    3             70.0   \n",
       "8   10110310034      2010      1011   UM151   Agama    3             72.0   \n",
       "9   10110310036      2010      1011   UM151   Agama    3             74.0   \n",
       "10  10110310037      2010      1011   UM151   Agama    3             70.0   \n",
       "11  10110310040      2010      1011   UM151   Agama    3             72.0   \n",
       "12  10110310044      2010      1011   UM151   Agama    3             99.0   \n",
       "13  10110310045      2010      1011   UM151   Agama    3             73.0   \n",
       "14  10110310047      2010      1011   UM151   Agama    3             97.0   \n",
       "\n",
       "   GRADE  \n",
       "0      B  \n",
       "1      B  \n",
       "2      C  \n",
       "3      B  \n",
       "4      B  \n",
       "5      B  \n",
       "6      B  \n",
       "7      B  \n",
       "8      B  \n",
       "9      B  \n",
       "10     B  \n",
       "11     B  \n",
       "12     A  \n",
       "13     B  \n",
       "14     A  "
      ]
     },
     "execution_count": 6,
     "metadata": {},
     "output_type": "execute_result"
    }
   ],
   "source": [
    "grade = []\n",
    "for x in df[\"NILAI MAHASISWA\"] :\n",
    "    if x >= 85 and x <= 100:\n",
    "        grade.append('A')\n",
    "    elif x >= 80 and x < 85:\n",
    "        grade.append('A-')\n",
    "    elif x >= 75 and x < 80:\n",
    "        grade.append('B+')\n",
    "    elif x >= 70 and x < 75:\n",
    "        grade.append('B')\n",
    "    elif x >= 65 and x < 70:\n",
    "        grade.append('B-')\n",
    "    elif x >= 60 and x < 65:\n",
    "        grade.append('C+')\n",
    "    elif x >= 55 and x < 60:\n",
    "        grade.append('C')\n",
    "    elif x >= 45 and x < 55:\n",
    "        grade.append('D')\n",
    "    elif x >= 0 and x < 45:\n",
    "        grade.append('E')\n",
    "    else:\n",
    "        grade.append('F')\n",
    "df[\"GRADE\"] = grade\n",
    "df.head(15)"
   ]
  },
  {
   "cell_type": "code",
   "execution_count": 7,
   "id": "bd450979",
   "metadata": {},
   "outputs": [],
   "source": [
    "df.dropna(inplace=True)"
   ]
  },
  {
   "cell_type": "code",
   "execution_count": 8,
   "id": "0c9c5e84",
   "metadata": {},
   "outputs": [
    {
     "data": {
      "text/plain": [
       "NIM                0\n",
       "ANGKATAN           0\n",
       "SEMESTER           0\n",
       "KODE_MK            0\n",
       "NAMA_MK            0\n",
       "SKS                0\n",
       "NILAI MAHASISWA    0\n",
       "GRADE              0\n",
       "dtype: int64"
      ]
     },
     "execution_count": 8,
     "metadata": {},
     "output_type": "execute_result"
    }
   ],
   "source": [
    "df.isna().sum()"
   ]
  },
  {
   "cell_type": "markdown",
   "id": "c01967d7",
   "metadata": {},
   "source": [
    "# Menangani data duplikat dataset mahasiswa"
   ]
  },
  {
   "cell_type": "code",
   "execution_count": 9,
   "id": "1335f89e",
   "metadata": {},
   "outputs": [
    {
     "data": {
      "text/plain": [
       "(30835, 8)"
      ]
     },
     "execution_count": 9,
     "metadata": {},
     "output_type": "execute_result"
    }
   ],
   "source": [
    "df.shape"
   ]
  },
  {
   "cell_type": "code",
   "execution_count": 10,
   "id": "c6e67060",
   "metadata": {},
   "outputs": [
    {
     "data": {
      "text/html": [
       "<div>\n",
       "<style scoped>\n",
       "    .dataframe tbody tr th:only-of-type {\n",
       "        vertical-align: middle;\n",
       "    }\n",
       "\n",
       "    .dataframe tbody tr th {\n",
       "        vertical-align: top;\n",
       "    }\n",
       "\n",
       "    .dataframe thead th {\n",
       "        text-align: right;\n",
       "    }\n",
       "</style>\n",
       "<table border=\"1\" class=\"dataframe\">\n",
       "  <thead>\n",
       "    <tr style=\"text-align: right;\">\n",
       "      <th></th>\n",
       "      <th>NIM</th>\n",
       "      <th>ANGKATAN</th>\n",
       "      <th>SEMESTER</th>\n",
       "      <th>KODE_MK</th>\n",
       "      <th>NAMA_MK</th>\n",
       "      <th>SKS</th>\n",
       "      <th>NILAI MAHASISWA</th>\n",
       "      <th>GRADE</th>\n",
       "    </tr>\n",
       "  </thead>\n",
       "  <tbody>\n",
       "    <tr>\n",
       "      <th>0</th>\n",
       "      <td>10110310004</td>\n",
       "      <td>2010</td>\n",
       "      <td>1011</td>\n",
       "      <td>UM151</td>\n",
       "      <td>Agama</td>\n",
       "      <td>3</td>\n",
       "      <td>70.0</td>\n",
       "      <td>B</td>\n",
       "    </tr>\n",
       "    <tr>\n",
       "      <th>1</th>\n",
       "      <td>10110310008</td>\n",
       "      <td>2010</td>\n",
       "      <td>1011</td>\n",
       "      <td>UM151</td>\n",
       "      <td>Agama</td>\n",
       "      <td>3</td>\n",
       "      <td>71.0</td>\n",
       "      <td>B</td>\n",
       "    </tr>\n",
       "    <tr>\n",
       "      <th>2</th>\n",
       "      <td>10110310011</td>\n",
       "      <td>2010</td>\n",
       "      <td>1011</td>\n",
       "      <td>UM151</td>\n",
       "      <td>Agama</td>\n",
       "      <td>3</td>\n",
       "      <td>55.0</td>\n",
       "      <td>C</td>\n",
       "    </tr>\n",
       "    <tr>\n",
       "      <th>3</th>\n",
       "      <td>10110310013</td>\n",
       "      <td>2010</td>\n",
       "      <td>1011</td>\n",
       "      <td>UM151</td>\n",
       "      <td>Agama</td>\n",
       "      <td>3</td>\n",
       "      <td>73.0</td>\n",
       "      <td>B</td>\n",
       "    </tr>\n",
       "    <tr>\n",
       "      <th>4</th>\n",
       "      <td>10110310017</td>\n",
       "      <td>2010</td>\n",
       "      <td>1011</td>\n",
       "      <td>UM151</td>\n",
       "      <td>Agama</td>\n",
       "      <td>3</td>\n",
       "      <td>70.0</td>\n",
       "      <td>B</td>\n",
       "    </tr>\n",
       "    <tr>\n",
       "      <th>...</th>\n",
       "      <td>...</td>\n",
       "      <td>...</td>\n",
       "      <td>...</td>\n",
       "      <td>...</td>\n",
       "      <td>...</td>\n",
       "      <td>...</td>\n",
       "      <td>...</td>\n",
       "      <td>...</td>\n",
       "    </tr>\n",
       "    <tr>\n",
       "      <th>30865</th>\n",
       "      <td>33849</td>\n",
       "      <td>2018</td>\n",
       "      <td>1821</td>\n",
       "      <td>IS201</td>\n",
       "      <td>Proses Bisnis Korporat</td>\n",
       "      <td>3</td>\n",
       "      <td>0.0</td>\n",
       "      <td>E</td>\n",
       "    </tr>\n",
       "    <tr>\n",
       "      <th>30866</th>\n",
       "      <td>31749</td>\n",
       "      <td>2018</td>\n",
       "      <td>1822</td>\n",
       "      <td>IF100</td>\n",
       "      <td>Dasar-Dasar Pemrograman</td>\n",
       "      <td>3</td>\n",
       "      <td>6.0</td>\n",
       "      <td>E</td>\n",
       "    </tr>\n",
       "    <tr>\n",
       "      <th>30867</th>\n",
       "      <td>32081</td>\n",
       "      <td>2018</td>\n",
       "      <td>1822</td>\n",
       "      <td>IF100</td>\n",
       "      <td>Dasar-Dasar Pemrograman</td>\n",
       "      <td>3</td>\n",
       "      <td>78.0</td>\n",
       "      <td>B+</td>\n",
       "    </tr>\n",
       "    <tr>\n",
       "      <th>30868</th>\n",
       "      <td>32462</td>\n",
       "      <td>2018</td>\n",
       "      <td>1822</td>\n",
       "      <td>IF100</td>\n",
       "      <td>Dasar-Dasar Pemrograman</td>\n",
       "      <td>3</td>\n",
       "      <td>78.0</td>\n",
       "      <td>B+</td>\n",
       "    </tr>\n",
       "    <tr>\n",
       "      <th>30869</th>\n",
       "      <td>33607</td>\n",
       "      <td>2018</td>\n",
       "      <td>1822</td>\n",
       "      <td>IF100</td>\n",
       "      <td>Dasar-Dasar Pemrograman</td>\n",
       "      <td>3</td>\n",
       "      <td>78.0</td>\n",
       "      <td>B+</td>\n",
       "    </tr>\n",
       "  </tbody>\n",
       "</table>\n",
       "<p>30835 rows × 8 columns</p>\n",
       "</div>"
      ],
      "text/plain": [
       "               NIM  ANGKATAN  SEMESTER KODE_MK                  NAMA_MK  SKS  \\\n",
       "0      10110310004      2010      1011   UM151                    Agama    3   \n",
       "1      10110310008      2010      1011   UM151                    Agama    3   \n",
       "2      10110310011      2010      1011   UM151                    Agama    3   \n",
       "3      10110310013      2010      1011   UM151                    Agama    3   \n",
       "4      10110310017      2010      1011   UM151                    Agama    3   \n",
       "...            ...       ...       ...     ...                      ...  ...   \n",
       "30865        33849      2018      1821   IS201   Proses Bisnis Korporat    3   \n",
       "30866        31749      2018      1822   IF100  Dasar-Dasar Pemrograman    3   \n",
       "30867        32081      2018      1822   IF100  Dasar-Dasar Pemrograman    3   \n",
       "30868        32462      2018      1822   IF100  Dasar-Dasar Pemrograman    3   \n",
       "30869        33607      2018      1822   IF100  Dasar-Dasar Pemrograman    3   \n",
       "\n",
       "       NILAI MAHASISWA GRADE  \n",
       "0                 70.0     B  \n",
       "1                 71.0     B  \n",
       "2                 55.0     C  \n",
       "3                 73.0     B  \n",
       "4                 70.0     B  \n",
       "...                ...   ...  \n",
       "30865              0.0     E  \n",
       "30866              6.0     E  \n",
       "30867             78.0    B+  \n",
       "30868             78.0    B+  \n",
       "30869             78.0    B+  \n",
       "\n",
       "[30835 rows x 8 columns]"
      ]
     },
     "execution_count": 10,
     "metadata": {},
     "output_type": "execute_result"
    }
   ],
   "source": [
    "df.drop_duplicates()"
   ]
  },
  {
   "cell_type": "markdown",
   "id": "57a38d27",
   "metadata": {},
   "source": [
    "# Mengatasi Outlier dataset mahasiswa"
   ]
  },
  {
   "cell_type": "code",
   "execution_count": 11,
   "id": "bd9e0e46",
   "metadata": {},
   "outputs": [
    {
     "data": {
      "image/png": "[encoded data removed]",
      "text/plain": [
       "<Figure size 432x288 with 1 Axes>"
      ]
     },
     "metadata": {
      "needs_background": "light"
     },
     "output_type": "display_data"
    }
   ],
   "source": [
    "plt.figure() \n",
    "sns.boxplot(x=df['NILAI MAHASISWA'])\n",
    "plt.show()"
   ]
  },
  {
   "cell_type": "code",
   "execution_count": 12,
   "id": "8631873e",
   "metadata": {},
   "outputs": [
    {
     "data": {
      "image/png": "[encoded data removed]",
      "text/plain": [
       "<Figure size 432x288 with 1 Axes>"
      ]
     },
     "metadata": {
      "needs_background": "light"
     },
     "output_type": "display_data"
    }
   ],
   "source": [
    "plt.figure() \n",
    "sns.boxplot(x=df['SKS'])\n",
    "plt.show()"
   ]
  },
  {
   "cell_type": "code",
   "execution_count": 13,
   "id": "932afca4",
   "metadata": {},
   "outputs": [
    {
     "name": "stderr",
     "output_type": "stream",
     "text": [
      "C:\\Users\\Justin Thames\\AppData\\Local\\Temp\\ipykernel_5156\\352347709.py:6: FutureWarning: Automatic reindexing on DataFrame vs Series comparisons is deprecated and will raise ValueError in a future version. Do `left, right = left.align(right, axis=1, copy=False)` before e.g. `left == right`\n",
      "  more_than = df > maximum\n",
      "C:\\Users\\Justin Thames\\AppData\\Local\\Temp\\ipykernel_5156\\352347709.py:7: FutureWarning: Automatic reindexing on DataFrame vs Series comparisons is deprecated and will raise ValueError in a future version. Do `left, right = left.align(right, axis=1, copy=False)` before e.g. `left == right`\n",
      "  less_than = df < minimum\n"
     ]
    },
    {
     "name": "stdout",
     "output_type": "stream",
     "text": [
      "       NILAI MAHASISWA      SKS\n",
      "count     30835.000000  30835.0\n",
      "mean         74.784968      3.0\n",
      "std          14.229594      0.0\n",
      "min          37.500000      3.0\n",
      "25%          66.000000      3.0\n",
      "50%          74.000000      3.0\n",
      "75%          85.000000      3.0\n",
      "max         100.000000      3.0\n"
     ]
    },
    {
     "name": "stderr",
     "output_type": "stream",
     "text": [
      "C:\\Users\\Justin Thames\\AppData\\Local\\Temp\\ipykernel_5156\\352347709.py:9: FutureWarning: Downcasting integer-dtype results in .where is deprecated and will change in a future version. To retain the old behavior, explicitly cast the results to the desired dtype.\n",
      "  df = df.mask(less_than, minimum, axis=1)\n"
     ]
    }
   ],
   "source": [
    "Q1 = (df[['NILAI MAHASISWA','SKS']]).quantile(0.25)\n",
    "Q3 = (df[['NILAI MAHASISWA','SKS']]).quantile(0.75)\n",
    "IQR = Q3 - Q1\n",
    "maximum = Q3 + (1.5*IQR)\n",
    "minimum = Q1 - (1.5*IQR)\n",
    "more_than = df > maximum\n",
    "less_than = df < minimum\n",
    "df = df.mask(more_than, maximum,axis=1)\n",
    "df = df.mask(less_than, minimum, axis=1)\n",
    "print(df[['NILAI MAHASISWA','SKS']].describe())"
   ]
  },
  {
   "cell_type": "code",
   "execution_count": 14,
   "id": "d3f8b0ac",
   "metadata": {},
   "outputs": [
    {
     "data": {
      "image/png": "[encoded data removed]",
      "text/plain": [
       "<Figure size 432x288 with 1 Axes>"
      ]
     },
     "metadata": {
      "needs_background": "light"
     },
     "output_type": "display_data"
    }
   ],
   "source": [
    "plt.figure() \n",
    "sns.boxplot(x=df['NILAI MAHASISWA'])\n",
    "plt.show()"
   ]
  },
  {
   "cell_type": "code",
   "execution_count": 15,
   "id": "5b74399e",
   "metadata": {},
   "outputs": [
    {
     "data": {
      "image/png": "[encoded data removed]",
      "text/plain": [
       "<Figure size 432x288 with 1 Axes>"
      ]
     },
     "metadata": {
      "needs_background": "light"
     },
     "output_type": "display_data"
    }
   ],
   "source": [
    "plt.figure() \n",
    "sns.boxplot(x=df['SKS'])\n",
    "plt.show()"
   ]
  },
  {
   "cell_type": "code",
   "execution_count": 16,
   "id": "5265a284",
   "metadata": {},
   "outputs": [
    {
     "data": {
      "text/html": [
       "<div>\n",
       "<style scoped>\n",
       "    .dataframe tbody tr th:only-of-type {\n",
       "        vertical-align: middle;\n",
       "    }\n",
       "\n",
       "    .dataframe tbody tr th {\n",
       "        vertical-align: top;\n",
       "    }\n",
       "\n",
       "    .dataframe thead th {\n",
       "        text-align: right;\n",
       "    }\n",
       "</style>\n",
       "<table border=\"1\" class=\"dataframe\">\n",
       "  <thead>\n",
       "    <tr style=\"text-align: right;\">\n",
       "      <th></th>\n",
       "      <th>NIM</th>\n",
       "      <th>ANGKATAN</th>\n",
       "      <th>SEMESTER</th>\n",
       "      <th>SKS</th>\n",
       "      <th>NILAI MAHASISWA</th>\n",
       "    </tr>\n",
       "  </thead>\n",
       "  <tbody>\n",
       "    <tr>\n",
       "      <th>count</th>\n",
       "      <td>3.083500e+04</td>\n",
       "      <td>30835.000000</td>\n",
       "      <td>30835.000000</td>\n",
       "      <td>30835.0</td>\n",
       "      <td>30835.000000</td>\n",
       "    </tr>\n",
       "    <tr>\n",
       "      <th>mean</th>\n",
       "      <td>6.999361e+09</td>\n",
       "      <td>2013.854030</td>\n",
       "      <td>1514.502546</td>\n",
       "      <td>3.0</td>\n",
       "      <td>74.784968</td>\n",
       "    </tr>\n",
       "    <tr>\n",
       "      <th>std</th>\n",
       "      <td>6.150573e+09</td>\n",
       "      <td>2.418752</td>\n",
       "      <td>233.853829</td>\n",
       "      <td>0.0</td>\n",
       "      <td>14.229594</td>\n",
       "    </tr>\n",
       "    <tr>\n",
       "      <th>min</th>\n",
       "      <td>8.429000e+03</td>\n",
       "      <td>2010.000000</td>\n",
       "      <td>1011.000000</td>\n",
       "      <td>3.0</td>\n",
       "      <td>37.500000</td>\n",
       "    </tr>\n",
       "    <tr>\n",
       "      <th>25%</th>\n",
       "      <td>1.795300e+04</td>\n",
       "      <td>2012.000000</td>\n",
       "      <td>1321.000000</td>\n",
       "      <td>3.0</td>\n",
       "      <td>66.000000</td>\n",
       "    </tr>\n",
       "    <tr>\n",
       "      <th>50%</th>\n",
       "      <td>1.011031e+10</td>\n",
       "      <td>2014.000000</td>\n",
       "      <td>1521.000000</td>\n",
       "      <td>3.0</td>\n",
       "      <td>74.000000</td>\n",
       "    </tr>\n",
       "    <tr>\n",
       "      <th>75%</th>\n",
       "      <td>1.311031e+10</td>\n",
       "      <td>2016.000000</td>\n",
       "      <td>1721.000000</td>\n",
       "      <td>3.0</td>\n",
       "      <td>85.000000</td>\n",
       "    </tr>\n",
       "    <tr>\n",
       "      <th>max</th>\n",
       "      <td>1.411031e+10</td>\n",
       "      <td>2018.000000</td>\n",
       "      <td>1911.000000</td>\n",
       "      <td>3.0</td>\n",
       "      <td>100.000000</td>\n",
       "    </tr>\n",
       "  </tbody>\n",
       "</table>\n",
       "</div>"
      ],
      "text/plain": [
       "                NIM      ANGKATAN      SEMESTER      SKS  NILAI MAHASISWA\n",
       "count  3.083500e+04  30835.000000  30835.000000  30835.0     30835.000000\n",
       "mean   6.999361e+09   2013.854030   1514.502546      3.0        74.784968\n",
       "std    6.150573e+09      2.418752    233.853829      0.0        14.229594\n",
       "min    8.429000e+03   2010.000000   1011.000000      3.0        37.500000\n",
       "25%    1.795300e+04   2012.000000   1321.000000      3.0        66.000000\n",
       "50%    1.011031e+10   2014.000000   1521.000000      3.0        74.000000\n",
       "75%    1.311031e+10   2016.000000   1721.000000      3.0        85.000000\n",
       "max    1.411031e+10   2018.000000   1911.000000      3.0       100.000000"
      ]
     },
     "execution_count": 16,
     "metadata": {},
     "output_type": "execute_result"
    }
   ],
   "source": [
    "df.describe()"
   ]
  },
  {
   "cell_type": "markdown",
   "id": "63176ab0",
   "metadata": {},
   "source": [
    "# K MEANS CLUSTERING"
   ]
  },
  {
   "cell_type": "code",
   "execution_count": 17,
   "id": "c5ecc5d4",
   "metadata": {},
   "outputs": [
    {
     "data": {
      "text/plain": [
       "NIM                  int64\n",
       "ANGKATAN             int64\n",
       "SEMESTER             int64\n",
       "KODE_MK             object\n",
       "NAMA_MK             object\n",
       "SKS                  int64\n",
       "NILAI MAHASISWA    float64\n",
       "GRADE               object\n",
       "dtype: object"
      ]
     },
     "execution_count": 17,
     "metadata": {},
     "output_type": "execute_result"
    }
   ],
   "source": [
    "df.dtypes"
   ]
  },
  {
   "cell_type": "code",
   "execution_count": 18,
   "id": "7370e94e",
   "metadata": {},
   "outputs": [
    {
     "name": "stdout",
     "output_type": "stream",
     "text": [
      "[[  70. 2010.]\n",
      " [  71. 2010.]\n",
      " [  55. 2010.]\n",
      " ...\n",
      " [  78. 2018.]\n",
      " [  78. 2018.]\n",
      " [  78. 2018.]]\n"
     ]
    }
   ],
   "source": [
    "#CARA VARIASI 2 NILAI DAN ANGKATAN\n",
    "X = df.iloc[:, [6, 1]].values\n",
    "print(X)"
   ]
  },
  {
   "cell_type": "code",
   "execution_count": 61,
   "id": "65795448",
   "metadata": {},
   "outputs": [
    {
     "data": {
      "image/png": "[encoded data removed]",
      "text/plain": [
       "<Figure size 432x288 with 1 Axes>"
      ]
     },
     "metadata": {
      "needs_background": "light"
     },
     "output_type": "display_data"
    }
   ],
   "source": [
    "wcss = []\n",
    "for i in range(1, 11):\n",
    "    kmeans = KMeans(n_clusters = i, init = 'k-means++', random_state = 42)\n",
    "    kmeans.fit(X)\n",
    "    wcss.append(kmeans.inertia_)\n",
    "plt.plot(range(1, 11), wcss)\n",
    "plt.title('Metode Elbow')\n",
    "plt.xlabel('Jumlah clusters')\n",
    "plt.ylabel('WCSS')\n",
    "plt.show()"
   ]
  },
  {
   "cell_type": "code",
   "execution_count": 62,
   "id": "f3051984",
   "metadata": {},
   "outputs": [
    {
     "data": {
      "image/png": "[encoded data removed]",
      "text/plain": [
       "<Figure size 432x288 with 1 Axes>"
      ]
     },
     "metadata": {
      "needs_background": "light"
     },
     "output_type": "display_data"
    }
   ],
   "source": [
    "kmeans = KMeans(n_clusters = 5, init = 'k-means++', random_state = 42)\n",
    "y_kmeans = kmeans.fit_predict(X)\n",
    "plt.scatter(X[y_kmeans == 0, 0], X[y_kmeans == 0, 1], s = 2, c = 'red', label = 'Cluster 1')\n",
    "plt.scatter(X[y_kmeans == 1, 0], X[y_kmeans == 1, 1], s = 2, c = 'orange', label = 'Cluster 2')\n",
    "plt.scatter(X[y_kmeans == 2, 0], X[y_kmeans == 2, 1], s = 2, c = 'green', label = 'Cluster 3')\n",
    "plt.scatter(X[y_kmeans == 3, 0], X[y_kmeans == 3, 1], s = 2, c = 'cyan', label = 'Cluster 4')\n",
    "plt.scatter(X[y_kmeans == 4, 0], X[y_kmeans == 4, 1], s = 2, c = 'magenta', label = 'Cluster 5')\n",
    "plt.scatter(kmeans.cluster_centers_[:, 0], kmeans.cluster_centers_[:, 1], s = 20, c = 'black', label = 'Centroids')\n",
    "plt.title('Clusters Nilai dan Angkatan')\n",
    "plt.xlabel('Nilai Mahasiswa')\n",
    "plt.ylabel('Angkatan')\n",
    "plt.legend()\n",
    "plt.show()"
   ]
  },
  {
   "cell_type": "code",
   "execution_count": 63,
   "id": "52fa82c0",
   "metadata": {},
   "outputs": [
    {
     "name": "stdout",
     "output_type": "stream",
     "text": [
      "Silhouetter Score: 0.510\n"
     ]
    }
   ],
   "source": [
    "score = silhouette_score(X, kmeans.labels_)\n",
    "print('Silhouetter Score: %.3f' % score)"
   ]
  },
  {
   "cell_type": "code",
   "execution_count": 65,
   "id": "d98cb436",
   "metadata": {},
   "outputs": [
    {
     "name": "stdout",
     "output_type": "stream",
     "text": [
      "Davies-Bouldin Index: 0.595\n"
     ]
    }
   ],
   "source": [
    "db_index = davies_bouldin_score(X, y_kmeans)\n",
    "print('Davies-Bouldin Index: %.3f' % db_index)"
   ]
  },
  {
   "cell_type": "code",
   "execution_count": 29,
   "id": "59577d10",
   "metadata": {},
   "outputs": [
    {
     "name": "stdout",
     "output_type": "stream",
     "text": [
      "[[70.]\n",
      " [71.]\n",
      " [55.]\n",
      " ...\n",
      " [78.]\n",
      " [78.]\n",
      " [78.]]\n"
     ]
    }
   ],
   "source": [
    "#CARA 1 VARIASI NILAI\n",
    "Z = df.iloc[:, [6]].values\n",
    "print(Z)"
   ]
  },
  {
   "cell_type": "code",
   "execution_count": 30,
   "id": "f8aa2d68",
   "metadata": {},
   "outputs": [
    {
     "data": {
      "image/png": "[encoded data removed]",
      "text/plain": [
       "<Figure size 432x288 with 1 Axes>"
      ]
     },
     "metadata": {
      "needs_background": "light"
     },
     "output_type": "display_data"
    }
   ],
   "source": [
    "kmeans = KMeans(n_clusters = 5, init = 'k-means++', random_state = 42)\n",
    "y_kmeans = kmeans.fit_predict(Z)\n",
    "plt.scatter(Z[y_kmeans == 0, 0], Z[y_kmeans == 0], s = 2, c = 'red', label = 'Cluster 1')\n",
    "plt.scatter(Z[y_kmeans == 1, 0], Z[y_kmeans == 1], s = 2, c = 'orange', label = 'Cluster 2')\n",
    "plt.scatter(Z[y_kmeans == 2, 0], Z[y_kmeans == 2], s = 2, c = 'green', label = 'Cluster 3')\n",
    "plt.scatter(Z[y_kmeans == 3, 0], Z[y_kmeans == 3], s = 2, c = 'cyan', label = 'Cluster 4')\n",
    "plt.scatter(Z[y_kmeans == 4, 0], Z[y_kmeans == 4], s = 2, c = 'magenta', label = 'Cluster 5')\n",
    "plt.scatter(kmeans.cluster_centers_[:], kmeans.cluster_centers_[:], s = 20, c = 'black', label = 'Centroids')\n",
    "plt.title('Clusters Nilai')\n",
    "plt.xlabel('Nilai Mahasiswa')\n",
    "plt.legend()\n",
    "plt.show()"
   ]
  },
  {
   "cell_type": "code",
   "execution_count": 31,
   "id": "09fc9b23",
   "metadata": {},
   "outputs": [
    {
     "name": "stdout",
     "output_type": "stream",
     "text": [
      "Silhouetter Score: 0.607\n"
     ]
    }
   ],
   "source": [
    "score = silhouette_score(Z, kmeans.labels_)\n",
    "print('Silhouetter Score: %.3f' % score)"
   ]
  },
  {
   "cell_type": "code",
   "execution_count": 66,
   "id": "d7b5fb84",
   "metadata": {},
   "outputs": [
    {
     "name": "stdout",
     "output_type": "stream",
     "text": [
      "Davies-Bouldin Index: 0.458\n"
     ]
    }
   ],
   "source": [
    "db_index = davies_bouldin_score(Z, y_kmeans)\n",
    "print('Davies-Bouldin Index: %.3f' % db_index)"
   ]
  },
  {
   "cell_type": "code",
   "execution_count": 32,
   "id": "db719579",
   "metadata": {},
   "outputs": [
    {
     "data": {
      "text/plain": [
       "NIM                   int64\n",
       "ANGKATAN              int64\n",
       "SEMESTER              int64\n",
       "KODE_MK              object\n",
       "NAMA_MK            category\n",
       "SKS                   int64\n",
       "NILAI MAHASISWA     float64\n",
       "GRADE                object\n",
       "dtype: object"
      ]
     },
     "execution_count": 32,
     "metadata": {},
     "output_type": "execute_result"
    }
   ],
   "source": [
    "df[\"NAMA_MK\"] = df[\"NAMA_MK\"].astype(\"category\")\n",
    "df.dtypes"
   ]
  },
  {
   "cell_type": "code",
   "execution_count": 33,
   "id": "bf783e43",
   "metadata": {},
   "outputs": [],
   "source": [
    "df[\"NAMA_MK\"] = df[\"NAMA_MK\"].cat.rename_categories([1,2,3,4,5,6,7,8,9,10,\n",
    "                                                     11,12,13,14,15,16,17,18,19,20,\n",
    "                                                     21,22,23,24,25,26,27,28,29,30,\n",
    "                                                     31,32,33,34,35,36,37,38,39,40,\n",
    "                                                     41,42,43,44,45,46,47,48,49,50,\n",
    "                                                     51,52,53,54,55,56,57,58,59,60,\n",
    "                                                     61,62,63,64,65,66,67,68,69,70,\n",
    "                                                     71,72,73,74,75,76,77,78,79,80,\n",
    "                                                     81,82,83,84,85,86,87,88,89,90,\n",
    "                                                     91,92,93,94,95,96,97,98,99,100,\n",
    "                                                     101,102,103,104,105,106,107,108,109,110,\n",
    "                                                     111,112,113,114,115,116,117,118,119,120,\n",
    "                                                     121,122,123,124,125,126,127,128,129,130,\n",
    "                                                     131,132,133,134,135,136,137,138,139,140,\n",
    "                                                     141,142,143,144,145,146,147,148,149,150,\n",
    "                                                     151,152,153,154,155,156,157,158,159,160,\n",
    "                                                     161,162,163,164,165,166,167,168,169,170,\n",
    "                                                     171,172,173,174,175,176,177,178,179,180,181,182])"
   ]
  },
  {
   "cell_type": "code",
   "execution_count": 34,
   "id": "f88095ea",
   "metadata": {},
   "outputs": [
    {
     "data": {
      "text/plain": [
       "0    58\n",
       "1    58\n",
       "2    58\n",
       "3    58\n",
       "4    58\n",
       "Name: NAMA_MK, dtype: category\n",
       "Categories (182, int64): [1, 2, 3, 4, ..., 179, 180, 181, 182]"
      ]
     },
     "execution_count": 34,
     "metadata": {},
     "output_type": "execute_result"
    }
   ],
   "source": [
    "df[\"NAMA_MK\"].head()"
   ]
  },
  {
   "cell_type": "code",
   "execution_count": 35,
   "id": "7b36c71d",
   "metadata": {},
   "outputs": [
    {
     "name": "stdout",
     "output_type": "stream",
     "text": [
      "[[70. 58.]\n",
      " [71. 58.]\n",
      " [55. 58.]\n",
      " ...\n",
      " [78. 78.]\n",
      " [78. 78.]\n",
      " [78. 78.]]\n"
     ]
    }
   ],
   "source": [
    "#CARA VARIASI 3 NILAI DAN NAMA_MK\n",
    "A = df.iloc[:, [6, 4]].values\n",
    "print(A)"
   ]
  },
  {
   "cell_type": "code",
   "execution_count": 78,
   "id": "8de6ebed",
   "metadata": {},
   "outputs": [
    {
     "data": {
      "image/png": "[encoded data removed]",
      "text/plain": [
       "<Figure size 432x288 with 1 Axes>"
      ]
     },
     "metadata": {
      "needs_background": "light"
     },
     "output_type": "display_data"
    }
   ],
   "source": [
    "kmeans = KMeans(n_clusters = 5, init = 'k-means++', random_state = 42)\n",
    "y_kmeans = kmeans.fit_predict(A)\n",
    "plt.scatter(A[y_kmeans == 0, 0], A[y_kmeans == 0, 1], s = 2, c = 'red', label = 'Cluster 1')\n",
    "plt.scatter(A[y_kmeans == 1, 0], A[y_kmeans == 1, 1], s = 2, c = 'orange', label = 'Cluster 2')\n",
    "plt.scatter(A[y_kmeans == 2, 0], A[y_kmeans == 2, 1], s = 2, c = 'green', label = 'Cluster 3')\n",
    "plt.scatter(A[y_kmeans == 3, 0], A[y_kmeans == 3, 1], s = 2, c = 'cyan', label = 'Cluster 4')\n",
    "plt.scatter(A[y_kmeans == 4, 0], A[y_kmeans == 4, 1], s = 2, c = 'magenta', label = 'Cluster 5')\n",
    "plt.scatter(kmeans.cluster_centers_[:, 0], kmeans.cluster_centers_[:, 1], s = 20, c = 'black', label = 'Centroids')\n",
    "plt.title('Clusters Nilai dan Mata Kuliah')\n",
    "plt.xlabel('Nilai Mahasiswa')\n",
    "plt.ylabel('MATA KULIAH (1-175)')\n",
    "plt.legend()\n",
    "plt.show()"
   ]
  },
  {
   "cell_type": "code",
   "execution_count": 79,
   "id": "6533ffca",
   "metadata": {},
   "outputs": [
    {
     "name": "stdout",
     "output_type": "stream",
     "text": [
      "Silhouetter Score: 0.415\n"
     ]
    }
   ],
   "source": [
    "score = silhouette_score(A, kmeans.labels_)\n",
    "print('Silhouetter Score: %.3f' % score)"
   ]
  },
  {
   "cell_type": "code",
   "execution_count": 80,
   "id": "fbc010dc",
   "metadata": {},
   "outputs": [
    {
     "name": "stdout",
     "output_type": "stream",
     "text": [
      "Davies-Bouldin Index: 0.830\n"
     ]
    }
   ],
   "source": [
    "db_index = davies_bouldin_score(A, y_kmeans)\n",
    "print('Davies-Bouldin Index: %.3f' % db_index)"
   ]
  },
  {
   "cell_type": "markdown",
   "id": "a2715ddc",
   "metadata": {},
   "source": [
    "# Korelasi Dataset1 dan dataset 2"
   ]
  },
  {
   "cell_type": "code",
   "execution_count": 82,
   "id": "ec8742d2",
   "metadata": {},
   "outputs": [
    {
     "data": {
      "text/html": [
       "<div>\n",
       "<style scoped>\n",
       "    .dataframe tbody tr th:only-of-type {\n",
       "        vertical-align: middle;\n",
       "    }\n",
       "\n",
       "    .dataframe tbody tr th {\n",
       "        vertical-align: top;\n",
       "    }\n",
       "\n",
       "    .dataframe thead th {\n",
       "        text-align: right;\n",
       "    }\n",
       "</style>\n",
       "<table border=\"1\" class=\"dataframe\">\n",
       "  <thead>\n",
       "    <tr style=\"text-align: right;\">\n",
       "      <th></th>\n",
       "      <th>Semester</th>\n",
       "      <th>Nama_MK</th>\n",
       "      <th>Nilai Mahasiswa</th>\n",
       "    </tr>\n",
       "  </thead>\n",
       "  <tbody>\n",
       "    <tr>\n",
       "      <th>0</th>\n",
       "      <td>1011</td>\n",
       "      <td>58</td>\n",
       "      <td>70.0</td>\n",
       "    </tr>\n",
       "    <tr>\n",
       "      <th>1</th>\n",
       "      <td>1011</td>\n",
       "      <td>58</td>\n",
       "      <td>71.0</td>\n",
       "    </tr>\n",
       "    <tr>\n",
       "      <th>2</th>\n",
       "      <td>1011</td>\n",
       "      <td>58</td>\n",
       "      <td>55.0</td>\n",
       "    </tr>\n",
       "    <tr>\n",
       "      <th>3</th>\n",
       "      <td>1011</td>\n",
       "      <td>58</td>\n",
       "      <td>73.0</td>\n",
       "    </tr>\n",
       "    <tr>\n",
       "      <th>4</th>\n",
       "      <td>1011</td>\n",
       "      <td>58</td>\n",
       "      <td>70.0</td>\n",
       "    </tr>\n",
       "  </tbody>\n",
       "</table>\n",
       "</div>"
      ],
      "text/plain": [
       "   Semester Nama_MK  Nilai Mahasiswa\n",
       "0      1011      58             70.0\n",
       "1      1011      58             71.0\n",
       "2      1011      58             55.0\n",
       "3      1011      58             73.0\n",
       "4      1011      58             70.0"
      ]
     },
     "execution_count": 82,
     "metadata": {},
     "output_type": "execute_result"
    }
   ],
   "source": [
    "df_1 = pd.DataFrame({\n",
    "   'Semester':df['SEMESTER'],\n",
    "   'Nama_MK':df['NAMA_MK'],\n",
    "   'Nilai Mahasiswa':df['NILAI MAHASISWA']\n",
    "})\n",
    "df_1.head()"
   ]
  },
  {
   "cell_type": "code",
   "execution_count": 83,
   "id": "9416c19c",
   "metadata": {},
   "outputs": [
    {
     "data": {
      "text/html": [
       "<div>\n",
       "<style scoped>\n",
       "    .dataframe tbody tr th:only-of-type {\n",
       "        vertical-align: middle;\n",
       "    }\n",
       "\n",
       "    .dataframe tbody tr th {\n",
       "        vertical-align: top;\n",
       "    }\n",
       "\n",
       "    .dataframe thead th {\n",
       "        text-align: right;\n",
       "    }\n",
       "</style>\n",
       "<table border=\"1\" class=\"dataframe\">\n",
       "  <thead>\n",
       "    <tr style=\"text-align: right;\">\n",
       "      <th></th>\n",
       "      <th>Semester</th>\n",
       "      <th>Nilai Survey</th>\n",
       "    </tr>\n",
       "  </thead>\n",
       "  <tbody>\n",
       "    <tr>\n",
       "      <th>0</th>\n",
       "      <td>1511</td>\n",
       "      <td>3.27</td>\n",
       "    </tr>\n",
       "    <tr>\n",
       "      <th>1</th>\n",
       "      <td>1511</td>\n",
       "      <td>3.09</td>\n",
       "    </tr>\n",
       "    <tr>\n",
       "      <th>2</th>\n",
       "      <td>1511</td>\n",
       "      <td>3.17</td>\n",
       "    </tr>\n",
       "    <tr>\n",
       "      <th>3</th>\n",
       "      <td>1511</td>\n",
       "      <td>3.21</td>\n",
       "    </tr>\n",
       "    <tr>\n",
       "      <th>4</th>\n",
       "      <td>1511</td>\n",
       "      <td>3.18</td>\n",
       "    </tr>\n",
       "  </tbody>\n",
       "</table>\n",
       "</div>"
      ],
      "text/plain": [
       "   Semester  Nilai Survey\n",
       "0      1511          3.27\n",
       "1      1511          3.09\n",
       "2      1511          3.17\n",
       "3      1511          3.21\n",
       "4      1511          3.18"
      ]
     },
     "execution_count": 83,
     "metadata": {},
     "output_type": "execute_result"
    }
   ],
   "source": [
    "df_2 = pd.DataFrame({\n",
    "   'Semester':df1['SEMESTER'],\n",
    "   'Nilai Survey':df1['NILAI SURVEY'],\n",
    "})\n",
    "df_2.head()"
   ]
  },
  {
   "cell_type": "code",
   "execution_count": 84,
   "id": "919a313c",
   "metadata": {},
   "outputs": [
    {
     "data": {
      "text/html": [
       "<div>\n",
       "<style scoped>\n",
       "    .dataframe tbody tr th:only-of-type {\n",
       "        vertical-align: middle;\n",
       "    }\n",
       "\n",
       "    .dataframe tbody tr th {\n",
       "        vertical-align: top;\n",
       "    }\n",
       "\n",
       "    .dataframe thead th {\n",
       "        text-align: right;\n",
       "    }\n",
       "</style>\n",
       "<table border=\"1\" class=\"dataframe\">\n",
       "  <thead>\n",
       "    <tr style=\"text-align: right;\">\n",
       "      <th></th>\n",
       "      <th>Semester</th>\n",
       "      <th>Nama_MK</th>\n",
       "      <th>Nilai Mahasiswa</th>\n",
       "      <th>Nilai Survey</th>\n",
       "    </tr>\n",
       "  </thead>\n",
       "  <tbody>\n",
       "    <tr>\n",
       "      <th>0</th>\n",
       "      <td>1011</td>\n",
       "      <td>58</td>\n",
       "      <td>70.0</td>\n",
       "      <td>NaN</td>\n",
       "    </tr>\n",
       "    <tr>\n",
       "      <th>1</th>\n",
       "      <td>1011</td>\n",
       "      <td>58</td>\n",
       "      <td>71.0</td>\n",
       "      <td>NaN</td>\n",
       "    </tr>\n",
       "    <tr>\n",
       "      <th>2</th>\n",
       "      <td>1011</td>\n",
       "      <td>58</td>\n",
       "      <td>55.0</td>\n",
       "      <td>NaN</td>\n",
       "    </tr>\n",
       "    <tr>\n",
       "      <th>3</th>\n",
       "      <td>1011</td>\n",
       "      <td>58</td>\n",
       "      <td>73.0</td>\n",
       "      <td>NaN</td>\n",
       "    </tr>\n",
       "    <tr>\n",
       "      <th>4</th>\n",
       "      <td>1011</td>\n",
       "      <td>58</td>\n",
       "      <td>70.0</td>\n",
       "      <td>NaN</td>\n",
       "    </tr>\n",
       "  </tbody>\n",
       "</table>\n",
       "</div>"
      ],
      "text/plain": [
       "   Semester Nama_MK  Nilai Mahasiswa  Nilai Survey\n",
       "0      1011      58             70.0           NaN\n",
       "1      1011      58             71.0           NaN\n",
       "2      1011      58             55.0           NaN\n",
       "3      1011      58             73.0           NaN\n",
       "4      1011      58             70.0           NaN"
      ]
     },
     "execution_count": 84,
     "metadata": {},
     "output_type": "execute_result"
    }
   ],
   "source": [
    "merge_df_left = pd.merge(left=df_1, right=df_2, how='left', left_on='Semester', right_on='Semester')\n",
    "merge_df_left.head()"
   ]
  },
  {
   "cell_type": "code",
   "execution_count": 85,
   "id": "2c53945e",
   "metadata": {},
   "outputs": [
    {
     "data": {
      "text/html": [
       "<div>\n",
       "<style scoped>\n",
       "    .dataframe tbody tr th:only-of-type {\n",
       "        vertical-align: middle;\n",
       "    }\n",
       "\n",
       "    .dataframe tbody tr th {\n",
       "        vertical-align: top;\n",
       "    }\n",
       "\n",
       "    .dataframe thead th {\n",
       "        text-align: right;\n",
       "    }\n",
       "</style>\n",
       "<table border=\"1\" class=\"dataframe\">\n",
       "  <thead>\n",
       "    <tr style=\"text-align: right;\">\n",
       "      <th></th>\n",
       "      <th>Semester</th>\n",
       "      <th>Nama_MK</th>\n",
       "      <th>Nilai Mahasiswa</th>\n",
       "      <th>Nilai Survey</th>\n",
       "    </tr>\n",
       "  </thead>\n",
       "  <tbody>\n",
       "    <tr>\n",
       "      <th>0</th>\n",
       "      <td>1011</td>\n",
       "      <td>58</td>\n",
       "      <td>70.0</td>\n",
       "      <td>NaN</td>\n",
       "    </tr>\n",
       "    <tr>\n",
       "      <th>1</th>\n",
       "      <td>1011</td>\n",
       "      <td>58</td>\n",
       "      <td>71.0</td>\n",
       "      <td>NaN</td>\n",
       "    </tr>\n",
       "    <tr>\n",
       "      <th>2</th>\n",
       "      <td>1011</td>\n",
       "      <td>58</td>\n",
       "      <td>55.0</td>\n",
       "      <td>NaN</td>\n",
       "    </tr>\n",
       "    <tr>\n",
       "      <th>3</th>\n",
       "      <td>1011</td>\n",
       "      <td>58</td>\n",
       "      <td>73.0</td>\n",
       "      <td>NaN</td>\n",
       "    </tr>\n",
       "    <tr>\n",
       "      <th>4</th>\n",
       "      <td>1011</td>\n",
       "      <td>58</td>\n",
       "      <td>70.0</td>\n",
       "      <td>NaN</td>\n",
       "    </tr>\n",
       "  </tbody>\n",
       "</table>\n",
       "</div>"
      ],
      "text/plain": [
       "   Semester  Nama_MK  Nilai Mahasiswa  Nilai Survey\n",
       "0      1011       58             70.0           NaN\n",
       "1      1011       58             71.0           NaN\n",
       "2      1011       58             55.0           NaN\n",
       "3      1011       58             73.0           NaN\n",
       "4      1011       58             70.0           NaN"
      ]
     },
     "execution_count": 85,
     "metadata": {},
     "output_type": "execute_result"
    }
   ],
   "source": [
    "merge_df_left[\"Nama_MK\"] = merge_df_left[\"Nama_MK\"].astype(\"int64\")\n",
    "merge_df_left.head()"
   ]
  },
  {
   "cell_type": "code",
   "execution_count": 47,
   "id": "bfbbe936",
   "metadata": {},
   "outputs": [
    {
     "data": {
      "image/png": "[encoded data removed]",
      "text/plain": [
       "<Figure size 432x288 with 2 Axes>"
      ]
     },
     "metadata": {
      "needs_background": "light"
     },
     "output_type": "display_data"
    }
   ],
   "source": [
    "sns.heatmap(merge_df_left.corr(),annot=True)\n",
    "plt.show()"
   ]
  },
  {
   "cell_type": "markdown",
   "id": "1f5cb522",
   "metadata": {},
   "source": [
    "# Merapikan dataset dosen"
   ]
  },
  {
   "cell_type": "code",
   "execution_count": 38,
   "id": "0efa66d0",
   "metadata": {},
   "outputs": [
    {
     "data": {
      "text/html": [
       "<div>\n",
       "<style scoped>\n",
       "    .dataframe tbody tr th:only-of-type {\n",
       "        vertical-align: middle;\n",
       "    }\n",
       "\n",
       "    .dataframe tbody tr th {\n",
       "        vertical-align: top;\n",
       "    }\n",
       "\n",
       "    .dataframe thead th {\n",
       "        text-align: right;\n",
       "    }\n",
       "</style>\n",
       "<table border=\"1\" class=\"dataframe\">\n",
       "  <thead>\n",
       "    <tr style=\"text-align: right;\">\n",
       "      <th></th>\n",
       "      <th>TAHUN</th>\n",
       "      <th>SEMESTER</th>\n",
       "      <th>MATAKULIAH</th>\n",
       "      <th>NILAI SURVEY</th>\n",
       "    </tr>\n",
       "  </thead>\n",
       "  <tbody>\n",
       "    <tr>\n",
       "      <th>0</th>\n",
       "      <td>2015</td>\n",
       "      <td>1511</td>\n",
       "      <td>Sistem Informasi Manajemen</td>\n",
       "      <td>3.27</td>\n",
       "    </tr>\n",
       "    <tr>\n",
       "      <th>1</th>\n",
       "      <td>2015</td>\n",
       "      <td>1511</td>\n",
       "      <td>Matematika Bisnis</td>\n",
       "      <td>3.09</td>\n",
       "    </tr>\n",
       "    <tr>\n",
       "      <th>2</th>\n",
       "      <td>2015</td>\n",
       "      <td>1511</td>\n",
       "      <td>Proses Bisnis Korporat</td>\n",
       "      <td>3.17</td>\n",
       "    </tr>\n",
       "    <tr>\n",
       "      <th>3</th>\n",
       "      <td>2015</td>\n",
       "      <td>1511</td>\n",
       "      <td>Algoritma dan Pemrograman</td>\n",
       "      <td>3.21</td>\n",
       "    </tr>\n",
       "    <tr>\n",
       "      <th>4</th>\n",
       "      <td>2015</td>\n",
       "      <td>1511</td>\n",
       "      <td>Konsep Sistem Operasi</td>\n",
       "      <td>3.18</td>\n",
       "    </tr>\n",
       "  </tbody>\n",
       "</table>\n",
       "</div>"
      ],
      "text/plain": [
       "   TAHUN  SEMESTER                   MATAKULIAH NILAI SURVEY\n",
       "0   2015      1511   Sistem Informasi Manajemen         3.27\n",
       "1   2015      1511            Matematika Bisnis         3.09\n",
       "2   2015      1511       Proses Bisnis Korporat         3.17\n",
       "3   2015      1511    Algoritma dan Pemrograman         3.21\n",
       "4   2015      1511        Konsep Sistem Operasi         3.18"
      ]
     },
     "execution_count": 38,
     "metadata": {},
     "output_type": "execute_result"
    }
   ],
   "source": [
    "df1 = pd.read_csv('Dataset2_EvaluasiDosenPerMK.csv', decimal=',')\n",
    "df1.rename(\n",
    "    columns=({'NILAI':'NILAI SURVEY'}),\n",
    "    inplace =True\n",
    "    \n",
    ")\n",
    "df1.head()"
   ]
  },
  {
   "cell_type": "code",
   "execution_count": 39,
   "id": "da30a10b",
   "metadata": {},
   "outputs": [
    {
     "name": "stdout",
     "output_type": "stream",
     "text": [
      "<class 'pandas.core.frame.DataFrame'>\n",
      "RangeIndex: 151 entries, 0 to 150\n",
      "Data columns (total 4 columns):\n",
      " #   Column        Non-Null Count  Dtype \n",
      "---  ------        --------------  ----- \n",
      " 0   TAHUN         151 non-null    int64 \n",
      " 1   SEMESTER      151 non-null    int64 \n",
      " 2   MATAKULIAH    151 non-null    object\n",
      " 3   NILAI SURVEY  151 non-null    object\n",
      "dtypes: int64(2), object(2)\n",
      "memory usage: 4.8+ KB\n"
     ]
    }
   ],
   "source": [
    "df1.info()"
   ]
  },
  {
   "cell_type": "markdown",
   "id": "b576b5ee",
   "metadata": {},
   "source": [
    "# Menangani Missing Value dosen"
   ]
  },
  {
   "cell_type": "code",
   "execution_count": 40,
   "id": "cd05b3b8",
   "metadata": {},
   "outputs": [
    {
     "data": {
      "text/plain": [
       "TAHUN           0\n",
       "SEMESTER        0\n",
       "MATAKULIAH      0\n",
       "NILAI SURVEY    0\n",
       "dtype: int64"
      ]
     },
     "execution_count": 40,
     "metadata": {},
     "output_type": "execute_result"
    }
   ],
   "source": [
    "df1.isna().sum()"
   ]
  },
  {
   "cell_type": "markdown",
   "id": "4390c6e9",
   "metadata": {},
   "source": [
    "# Menangani data duplikat dataset dosen"
   ]
  },
  {
   "cell_type": "code",
   "execution_count": 41,
   "id": "e390a111",
   "metadata": {},
   "outputs": [
    {
     "data": {
      "text/plain": [
       "(151, 4)"
      ]
     },
     "execution_count": 41,
     "metadata": {},
     "output_type": "execute_result"
    }
   ],
   "source": [
    "df1.shape"
   ]
  },
  {
   "cell_type": "code",
   "execution_count": 42,
   "id": "b64ecd2a",
   "metadata": {},
   "outputs": [
    {
     "data": {
      "text/html": [
       "<div>\n",
       "<style scoped>\n",
       "    .dataframe tbody tr th:only-of-type {\n",
       "        vertical-align: middle;\n",
       "    }\n",
       "\n",
       "    .dataframe tbody tr th {\n",
       "        vertical-align: top;\n",
       "    }\n",
       "\n",
       "    .dataframe thead th {\n",
       "        text-align: right;\n",
       "    }\n",
       "</style>\n",
       "<table border=\"1\" class=\"dataframe\">\n",
       "  <thead>\n",
       "    <tr style=\"text-align: right;\">\n",
       "      <th></th>\n",
       "      <th>TAHUN</th>\n",
       "      <th>SEMESTER</th>\n",
       "      <th>MATAKULIAH</th>\n",
       "      <th>NILAI SURVEY</th>\n",
       "    </tr>\n",
       "  </thead>\n",
       "  <tbody>\n",
       "    <tr>\n",
       "      <th>0</th>\n",
       "      <td>2015</td>\n",
       "      <td>1511</td>\n",
       "      <td>Sistem Informasi Manajemen</td>\n",
       "      <td>3.27</td>\n",
       "    </tr>\n",
       "    <tr>\n",
       "      <th>1</th>\n",
       "      <td>2015</td>\n",
       "      <td>1511</td>\n",
       "      <td>Matematika Bisnis</td>\n",
       "      <td>3.09</td>\n",
       "    </tr>\n",
       "    <tr>\n",
       "      <th>2</th>\n",
       "      <td>2015</td>\n",
       "      <td>1511</td>\n",
       "      <td>Proses Bisnis Korporat</td>\n",
       "      <td>3.17</td>\n",
       "    </tr>\n",
       "    <tr>\n",
       "      <th>3</th>\n",
       "      <td>2015</td>\n",
       "      <td>1511</td>\n",
       "      <td>Algoritma dan Pemrograman</td>\n",
       "      <td>3.21</td>\n",
       "    </tr>\n",
       "    <tr>\n",
       "      <th>4</th>\n",
       "      <td>2015</td>\n",
       "      <td>1511</td>\n",
       "      <td>Konsep Sistem Operasi</td>\n",
       "      <td>3.18</td>\n",
       "    </tr>\n",
       "    <tr>\n",
       "      <th>...</th>\n",
       "      <td>...</td>\n",
       "      <td>...</td>\n",
       "      <td>...</td>\n",
       "      <td>...</td>\n",
       "    </tr>\n",
       "    <tr>\n",
       "      <th>146</th>\n",
       "      <td>2018</td>\n",
       "      <td>1821</td>\n",
       "      <td>Metode Riset Sistem Informasi</td>\n",
       "      <td>3.22</td>\n",
       "    </tr>\n",
       "    <tr>\n",
       "      <th>147</th>\n",
       "      <td>2018</td>\n",
       "      <td>1821</td>\n",
       "      <td>Audit Sistem Informasi</td>\n",
       "      <td>3.37</td>\n",
       "    </tr>\n",
       "    <tr>\n",
       "      <th>148</th>\n",
       "      <td>2018</td>\n",
       "      <td>1821</td>\n",
       "      <td>Tata Kelola Teknologi Informasi 2</td>\n",
       "      <td>3.32</td>\n",
       "    </tr>\n",
       "    <tr>\n",
       "      <th>149</th>\n",
       "      <td>2018</td>\n",
       "      <td>1821</td>\n",
       "      <td>Sistem &amp; Aplikasi Perusahaan 2</td>\n",
       "      <td>3.59</td>\n",
       "    </tr>\n",
       "    <tr>\n",
       "      <th>150</th>\n",
       "      <td>2018</td>\n",
       "      <td>1821</td>\n",
       "      <td>Inovasi Teknologi Informasi</td>\n",
       "      <td>3.46</td>\n",
       "    </tr>\n",
       "  </tbody>\n",
       "</table>\n",
       "<p>151 rows × 4 columns</p>\n",
       "</div>"
      ],
      "text/plain": [
       "     TAHUN  SEMESTER                         MATAKULIAH NILAI SURVEY\n",
       "0     2015      1511         Sistem Informasi Manajemen         3.27\n",
       "1     2015      1511                  Matematika Bisnis         3.09\n",
       "2     2015      1511             Proses Bisnis Korporat         3.17\n",
       "3     2015      1511          Algoritma dan Pemrograman         3.21\n",
       "4     2015      1511              Konsep Sistem Operasi         3.18\n",
       "..     ...       ...                                ...          ...\n",
       "146   2018      1821      Metode Riset Sistem Informasi         3.22\n",
       "147   2018      1821             Audit Sistem Informasi         3.37\n",
       "148   2018      1821  Tata Kelola Teknologi Informasi 2         3.32\n",
       "149   2018      1821     Sistem & Aplikasi Perusahaan 2         3.59\n",
       "150   2018      1821        Inovasi Teknologi Informasi         3.46\n",
       "\n",
       "[151 rows x 4 columns]"
      ]
     },
     "execution_count": 42,
     "metadata": {},
     "output_type": "execute_result"
    }
   ],
   "source": [
    "df1.drop_duplicates()"
   ]
  },
  {
   "cell_type": "markdown",
   "id": "0420eb74",
   "metadata": {},
   "source": [
    "# Mengatasi Outlier dataset dosen"
   ]
  },
  {
   "cell_type": "code",
   "execution_count": 43,
   "id": "f89d54a8",
   "metadata": {},
   "outputs": [],
   "source": [
    "df1[\"NILAI SURVEY\"] = df1[\"NILAI SURVEY\"].astype(\"float\")"
   ]
  },
  {
   "cell_type": "code",
   "execution_count": 44,
   "id": "e07d19ec",
   "metadata": {},
   "outputs": [
    {
     "data": {
      "image/png": "[encoded data removed]",
      "text/plain": [
       "<Figure size 432x288 with 1 Axes>"
      ]
     },
     "metadata": {
      "needs_background": "light"
     },
     "output_type": "display_data"
    }
   ],
   "source": [
    "plt.figure() \n",
    "sns.boxplot(x=df1['NILAI SURVEY'])\n",
    "plt.show()"
   ]
  },
  {
   "cell_type": "code",
   "execution_count": 45,
   "id": "b0ba943d",
   "metadata": {},
   "outputs": [
    {
     "name": "stdout",
     "output_type": "stream",
     "text": [
      "       NILAI SURVEY\n",
      "count    151.000000\n",
      "mean       3.315430\n",
      "std        0.231123\n",
      "min        2.777500\n",
      "25%        3.175000\n",
      "50%        3.310000\n",
      "75%        3.440000\n",
      "max        3.837500\n"
     ]
    },
    {
     "name": "stderr",
     "output_type": "stream",
     "text": [
      "C:\\Users\\Justin Thames\\AppData\\Local\\Temp\\ipykernel_5156\\3746329393.py:6: FutureWarning: Automatic reindexing on DataFrame vs Series comparisons is deprecated and will raise ValueError in a future version. Do `left, right = left.align(right, axis=1, copy=False)` before e.g. `left == right`\n",
      "  more_than = df1 > maximum\n",
      "C:\\Users\\Justin Thames\\AppData\\Local\\Temp\\ipykernel_5156\\3746329393.py:7: FutureWarning: Automatic reindexing on DataFrame vs Series comparisons is deprecated and will raise ValueError in a future version. Do `left, right = left.align(right, axis=1, copy=False)` before e.g. `left == right`\n",
      "  less_than = df1 < minimum\n"
     ]
    }
   ],
   "source": [
    "Q1 = (df1[['NILAI SURVEY']]).quantile(0.25)\n",
    "Q3 = (df1[['NILAI SURVEY']]).quantile(0.75)\n",
    "IQR = Q3 - Q1\n",
    "maximum = Q3 + (1.5*IQR)\n",
    "minimum = Q1 - (1.5*IQR)\n",
    "more_than = df1 > maximum\n",
    "less_than = df1 < minimum\n",
    "df1 = df1.mask(more_than, maximum,axis=1)\n",
    "df1 = df1.mask(less_than, minimum, axis=1)\n",
    "print(df1[['NILAI SURVEY']].describe())"
   ]
  },
  {
   "cell_type": "code",
   "execution_count": 46,
   "id": "c6473f2c",
   "metadata": {},
   "outputs": [
    {
     "data": {
      "image/png": "[encoded data removed]",
      "text/plain": [
       "<Figure size 432x288 with 1 Axes>"
      ]
     },
     "metadata": {
      "needs_background": "light"
     },
     "output_type": "display_data"
    }
   ],
   "source": [
    "plt.figure() \n",
    "sns.boxplot(x=df1['NILAI SURVEY'])\n",
    "plt.show()"
   ]
  },
  {
   "cell_type": "code",
   "execution_count": 47,
   "id": "67a232ce",
   "metadata": {},
   "outputs": [
    {
     "data": {
      "text/html": [
       "<div>\n",
       "<style scoped>\n",
       "    .dataframe tbody tr th:only-of-type {\n",
       "        vertical-align: middle;\n",
       "    }\n",
       "\n",
       "    .dataframe tbody tr th {\n",
       "        vertical-align: top;\n",
       "    }\n",
       "\n",
       "    .dataframe thead th {\n",
       "        text-align: right;\n",
       "    }\n",
       "</style>\n",
       "<table border=\"1\" class=\"dataframe\">\n",
       "  <thead>\n",
       "    <tr style=\"text-align: right;\">\n",
       "      <th></th>\n",
       "      <th>TAHUN</th>\n",
       "      <th>SEMESTER</th>\n",
       "      <th>NILAI SURVEY</th>\n",
       "    </tr>\n",
       "  </thead>\n",
       "  <tbody>\n",
       "    <tr>\n",
       "      <th>count</th>\n",
       "      <td>151.000000</td>\n",
       "      <td>151.000000</td>\n",
       "      <td>151.000000</td>\n",
       "    </tr>\n",
       "    <tr>\n",
       "      <th>mean</th>\n",
       "      <td>2016.496689</td>\n",
       "      <td>1665.966887</td>\n",
       "      <td>3.315430</td>\n",
       "    </tr>\n",
       "    <tr>\n",
       "      <th>std</th>\n",
       "      <td>1.165471</td>\n",
       "      <td>116.955115</td>\n",
       "      <td>0.231123</td>\n",
       "    </tr>\n",
       "    <tr>\n",
       "      <th>min</th>\n",
       "      <td>2015.000000</td>\n",
       "      <td>1511.000000</td>\n",
       "      <td>2.777500</td>\n",
       "    </tr>\n",
       "    <tr>\n",
       "      <th>25%</th>\n",
       "      <td>2015.000000</td>\n",
       "      <td>1521.000000</td>\n",
       "      <td>3.175000</td>\n",
       "    </tr>\n",
       "    <tr>\n",
       "      <th>50%</th>\n",
       "      <td>2016.000000</td>\n",
       "      <td>1621.000000</td>\n",
       "      <td>3.310000</td>\n",
       "    </tr>\n",
       "    <tr>\n",
       "      <th>75%</th>\n",
       "      <td>2018.000000</td>\n",
       "      <td>1811.000000</td>\n",
       "      <td>3.440000</td>\n",
       "    </tr>\n",
       "    <tr>\n",
       "      <th>max</th>\n",
       "      <td>2018.000000</td>\n",
       "      <td>1821.000000</td>\n",
       "      <td>3.837500</td>\n",
       "    </tr>\n",
       "  </tbody>\n",
       "</table>\n",
       "</div>"
      ],
      "text/plain": [
       "             TAHUN     SEMESTER  NILAI SURVEY\n",
       "count   151.000000   151.000000    151.000000\n",
       "mean   2016.496689  1665.966887      3.315430\n",
       "std       1.165471   116.955115      0.231123\n",
       "min    2015.000000  1511.000000      2.777500\n",
       "25%    2015.000000  1521.000000      3.175000\n",
       "50%    2016.000000  1621.000000      3.310000\n",
       "75%    2018.000000  1811.000000      3.440000\n",
       "max    2018.000000  1821.000000      3.837500"
      ]
     },
     "execution_count": 47,
     "metadata": {},
     "output_type": "execute_result"
    }
   ],
   "source": [
    "df1.describe()"
   ]
  },
  {
   "cell_type": "markdown",
   "id": "db3f5bb1",
   "metadata": {},
   "source": [
    "# Menentukan K Means"
   ]
  },
  {
   "cell_type": "code",
   "execution_count": 69,
   "id": "6d286805",
   "metadata": {
    "collapsed": true
   },
   "outputs": [
    {
     "name": "stdout",
     "output_type": "stream",
     "text": [
      "[[3.27  ]\n",
      " [3.09  ]\n",
      " [3.17  ]\n",
      " [3.21  ]\n",
      " [3.18  ]\n",
      " [3.26  ]\n",
      " [2.99  ]\n",
      " [3.34  ]\n",
      " [3.32  ]\n",
      " [3.54  ]\n",
      " [3.12  ]\n",
      " [3.35  ]\n",
      " [3.3   ]\n",
      " [3.08  ]\n",
      " [3.41  ]\n",
      " [3.3   ]\n",
      " [3.58  ]\n",
      " [3.27  ]\n",
      " [3.63  ]\n",
      " [3.52  ]\n",
      " [3.28  ]\n",
      " [2.96  ]\n",
      " [3.3   ]\n",
      " [3.05  ]\n",
      " [3.01  ]\n",
      " [3.17  ]\n",
      " [3.6   ]\n",
      " [3.11  ]\n",
      " [3.08  ]\n",
      " [2.96  ]\n",
      " [3.09  ]\n",
      " [3.04  ]\n",
      " [3.47  ]\n",
      " [3.45  ]\n",
      " [3.7   ]\n",
      " [3.48  ]\n",
      " [3.24  ]\n",
      " [3.23  ]\n",
      " [3.38  ]\n",
      " [3.53  ]\n",
      " [3.15  ]\n",
      " [3.36  ]\n",
      " [3.66  ]\n",
      " [2.7775]\n",
      " [3.3   ]\n",
      " [3.31  ]\n",
      " [3.13  ]\n",
      " [3.36  ]\n",
      " [2.97  ]\n",
      " [3.35  ]\n",
      " [3.2   ]\n",
      " [3.24  ]\n",
      " [3.04  ]\n",
      " [3.37  ]\n",
      " [3.24  ]\n",
      " [3.33  ]\n",
      " [3.32  ]\n",
      " [3.28  ]\n",
      " [3.43  ]\n",
      " [3.12  ]\n",
      " [3.37  ]\n",
      " [3.44  ]\n",
      " [3.1   ]\n",
      " [3.21  ]\n",
      " [2.7775]\n",
      " [3.35  ]\n",
      " [3.67  ]\n",
      " [3.25  ]\n",
      " [3.23  ]\n",
      " [2.7775]\n",
      " [3.05  ]\n",
      " [3.16  ]\n",
      " [2.7775]\n",
      " [3.77  ]\n",
      " [3.79  ]\n",
      " [2.96  ]\n",
      " [3.79  ]\n",
      " [3.8   ]\n",
      " [3.83  ]\n",
      " [2.79  ]\n",
      " [3.8375]\n",
      " [3.31  ]\n",
      " [3.    ]\n",
      " [3.43  ]\n",
      " [3.8375]\n",
      " [3.29  ]\n",
      " [3.38  ]\n",
      " [3.22  ]\n",
      " [3.48  ]\n",
      " [3.19  ]\n",
      " [3.42  ]\n",
      " [3.35  ]\n",
      " [3.62  ]\n",
      " [3.3   ]\n",
      " [3.22  ]\n",
      " [3.15  ]\n",
      " [3.22  ]\n",
      " [3.38  ]\n",
      " [3.4   ]\n",
      " [3.47  ]\n",
      " [3.71  ]\n",
      " [3.21  ]\n",
      " [3.6   ]\n",
      " [3.3   ]\n",
      " [3.23  ]\n",
      " [3.44  ]\n",
      " [3.17  ]\n",
      " [3.32  ]\n",
      " [3.4   ]\n",
      " [3.32  ]\n",
      " [3.4   ]\n",
      " [3.26  ]\n",
      " [3.13  ]\n",
      " [3.32  ]\n",
      " [3.36  ]\n",
      " [3.31  ]\n",
      " [3.11  ]\n",
      " [3.41  ]\n",
      " [3.35  ]\n",
      " [3.48  ]\n",
      " [3.53  ]\n",
      " [3.26  ]\n",
      " [3.44  ]\n",
      " [3.22  ]\n",
      " [3.59  ]\n",
      " [3.27  ]\n",
      " [3.74  ]\n",
      " [3.36  ]\n",
      " [3.24  ]\n",
      " [3.31  ]\n",
      " [3.42  ]\n",
      " [3.3   ]\n",
      " [3.54  ]\n",
      " [3.14  ]\n",
      " [3.8375]\n",
      " [2.7775]\n",
      " [3.42  ]\n",
      " [3.09  ]\n",
      " [3.12  ]\n",
      " [3.44  ]\n",
      " [2.93  ]\n",
      " [3.31  ]\n",
      " [3.67  ]\n",
      " [3.46  ]\n",
      " [3.55  ]\n",
      " [3.48  ]\n",
      " [3.22  ]\n",
      " [3.37  ]\n",
      " [3.32  ]\n",
      " [3.59  ]\n",
      " [3.46  ]]\n"
     ]
    }
   ],
   "source": [
    "C = df1.iloc[:, [3]].values\n",
    "print(C)"
   ]
  },
  {
   "cell_type": "code",
   "execution_count": 70,
   "id": "b14eb2b3",
   "metadata": {},
   "outputs": [
    {
     "data": {
      "image/png": "[encoded data removed]",
      "text/plain": [
       "<Figure size 432x288 with 1 Axes>"
      ]
     },
     "metadata": {
      "needs_background": "light"
     },
     "output_type": "display_data"
    }
   ],
   "source": [
    "kmeans = KMeans(n_clusters = 5, init = 'k-means++', random_state = 42)\n",
    "y_kmeans = kmeans.fit_predict(C)\n",
    "plt.scatter(C[y_kmeans == 0,0], C[y_kmeans == 0], s = 2, c = 'purple', label = 'Cluster 1')\n",
    "plt.scatter(C[y_kmeans == 1,0], C[y_kmeans == 1], s = 2, c = 'pink', label = 'Cluster 2')\n",
    "plt.scatter(C[y_kmeans == 2,0], C[y_kmeans == 2], s = 2, c = 'green', label = 'Cluster 3')\n",
    "plt.scatter(C[y_kmeans == 3,0], C[y_kmeans == 3], s = 2, c = 'gold', label = 'Cluster 4')\n",
    "plt.scatter(C[y_kmeans == 4,0], C[y_kmeans == 4], s = 2, c = 'magenta', label = 'Cluster 5')\n",
    "plt.scatter(kmeans.cluster_centers_[:], kmeans.cluster_centers_[:], s = 20, c = 'red', label = 'Centroids')\n",
    "plt.title('Clusters Nilai Dataset2')\n",
    "plt.xlabel('Nilai Evaluasi')\n",
    "plt.legend()\n",
    "plt.show()"
   ]
  },
  {
   "cell_type": "code",
   "execution_count": 71,
   "id": "b30f6687",
   "metadata": {},
   "outputs": [
    {
     "name": "stdout",
     "output_type": "stream",
     "text": [
      "Silhouetter Score: 0.542\n"
     ]
    }
   ],
   "source": [
    "score = silhouette_score(C, kmeans.labels_)\n",
    "print('Silhouetter Score: %.3f' % score)"
   ]
  },
  {
   "cell_type": "code",
   "execution_count": 72,
   "id": "36892393",
   "metadata": {},
   "outputs": [
    {
     "name": "stdout",
     "output_type": "stream",
     "text": [
      "Davies-Bouldin Index: 0.520\n"
     ]
    }
   ],
   "source": [
    "db_index = davies_bouldin_score(C, y_kmeans)\n",
    "print('Davies-Bouldin Index: %.3f' % db_index)"
   ]
  },
  {
   "cell_type": "code",
   "execution_count": 50,
   "id": "db0034eb",
   "metadata": {},
   "outputs": [
    {
     "data": {
      "text/plain": [
       "TAHUN              int64\n",
       "SEMESTER           int64\n",
       "MATAKULIAH      category\n",
       "NILAI SURVEY     float64\n",
       "dtype: object"
      ]
     },
     "execution_count": 50,
     "metadata": {},
     "output_type": "execute_result"
    }
   ],
   "source": [
    "df1[\"MATAKULIAH\"] = df1[\"MATAKULIAH\"].astype(\"category\")\n",
    "df1.dtypes"
   ]
  },
  {
   "cell_type": "code",
   "execution_count": 51,
   "id": "3acb9cee",
   "metadata": {},
   "outputs": [
    {
     "data": {
      "text/plain": [
       "0     Sistem Informasi Manajemen\n",
       "1              Matematika Bisnis\n",
       "2         Proses Bisnis Korporat\n",
       "3      Algoritma dan Pemrograman\n",
       "4          Konsep Sistem Operasi\n",
       "Name: MATAKULIAH, dtype: category\n",
       "Categories (56, object): [' Business Intelligence', ' Data Analysis', ' Data Mining', ' Datawarehouse', ..., 'Topik Lanjut Sistem Informasi 1', 'Topik Lanjut Sistem Informasi 2', 'Web Design and Development', 'iOS Programming 1']"
      ]
     },
     "execution_count": 51,
     "metadata": {},
     "output_type": "execute_result"
    }
   ],
   "source": [
    "df1[\"MATAKULIAH\"].head()"
   ]
  },
  {
   "cell_type": "code",
   "execution_count": 52,
   "id": "9b030052",
   "metadata": {},
   "outputs": [],
   "source": [
    "df1[\"MATAKULIAH\"] = df1[\"MATAKULIAH\"].cat.rename_categories([1,2,3,4,5,6,7,8,9,10,\n",
    "                                                             11,12,13,14,15,16,17,18,19,20,\n",
    "                                                             21,22,23,24,25,26,27,28,29,30,\n",
    "                                                             31,32,33,34,35,36,37,38,39,40,\n",
    "                                                             41,42,43,44,45,46,47,48,49,50,\n",
    "                                                             51,52,53,54,55,56])"
   ]
  },
  {
   "cell_type": "code",
   "execution_count": 74,
   "id": "bbf04e50",
   "metadata": {
    "collapsed": true
   },
   "outputs": [
    {
     "name": "stdout",
     "output_type": "stream",
     "text": [
      "[[ 3.27    9.    ]\n",
      " [ 3.09   32.    ]\n",
      " [ 3.17   40.    ]\n",
      " [ 3.21   13.    ]\n",
      " [ 3.18   29.    ]\n",
      " [ 3.26   15.    ]\n",
      " [ 2.99   46.    ]\n",
      " [ 3.34   25.    ]\n",
      " [ 3.32   16.    ]\n",
      " [ 3.54   36.    ]\n",
      " [ 3.12   30.    ]\n",
      " [ 3.35   48.    ]\n",
      " [ 3.3    21.    ]\n",
      " [ 3.08   49.    ]\n",
      " [ 3.41   43.    ]\n",
      " [ 3.3    17.    ]\n",
      " [ 3.58   52.    ]\n",
      " [ 3.27   54.    ]\n",
      " [ 3.63   12.    ]\n",
      " [ 3.52    8.    ]\n",
      " [ 3.28   45.    ]\n",
      " [ 2.96   40.    ]\n",
      " [ 3.3    28.    ]\n",
      " [ 3.05   13.    ]\n",
      " [ 3.01   39.    ]\n",
      " [ 3.17   26.    ]\n",
      " [ 3.6    38.    ]\n",
      " [ 3.11   25.    ]\n",
      " [ 3.08   16.    ]\n",
      " [ 2.96   35.    ]\n",
      " [ 3.09   36.    ]\n",
      " [ 3.04   22.    ]\n",
      " [ 3.47   24.    ]\n",
      " [ 3.45   41.    ]\n",
      " [ 3.7    11.    ]\n",
      " [ 3.48   42.    ]\n",
      " [ 3.24   33.    ]\n",
      " [ 3.23   50.    ]\n",
      " [ 3.38   44.    ]\n",
      " [ 3.53   47.    ]\n",
      " [ 3.15   32.    ]\n",
      " [ 3.36   40.    ]\n",
      " [ 3.66   39.    ]\n",
      " [ 2.7775 29.    ]\n",
      " [ 3.3    15.    ]\n",
      " [ 3.31   46.    ]\n",
      " [ 3.13   30.    ]\n",
      " [ 3.36   36.    ]\n",
      " [ 2.97   34.    ]\n",
      " [ 3.35   56.    ]\n",
      " [ 3.2    48.    ]\n",
      " [ 3.24   21.    ]\n",
      " [ 3.04   23.    ]\n",
      " [ 3.37   49.    ]\n",
      " [ 3.24   43.    ]\n",
      " [ 3.33   18.    ]\n",
      " [ 3.32   52.    ]\n",
      " [ 3.28   54.    ]\n",
      " [ 3.43   12.    ]\n",
      " [ 3.12   51.    ]\n",
      " [ 3.37   45.    ]\n",
      " [ 3.44   40.    ]\n",
      " [ 3.1    28.    ]\n",
      " [ 3.21   13.    ]\n",
      " [ 2.7775 39.    ]\n",
      " [ 3.35   26.    ]\n",
      " [ 3.67   38.    ]\n",
      " [ 3.25    6.    ]\n",
      " [ 3.23   16.    ]\n",
      " [ 2.7775 35.    ]\n",
      " [ 3.05   36.    ]\n",
      " [ 3.16   22.    ]\n",
      " [ 2.7775 41.    ]\n",
      " [ 3.77   53.    ]\n",
      " [ 3.79   11.    ]\n",
      " [ 2.96    3.    ]\n",
      " [ 3.79   42.    ]\n",
      " [ 3.8    33.    ]\n",
      " [ 3.83   18.    ]\n",
      " [ 2.79   44.    ]\n",
      " [ 3.8375 27.    ]\n",
      " [ 3.31    9.    ]\n",
      " [ 3.     32.    ]\n",
      " [ 3.43   21.    ]\n",
      " [ 3.8375 43.    ]\n",
      " [ 3.29   45.    ]\n",
      " [ 3.38   40.    ]\n",
      " [ 3.22   28.    ]\n",
      " [ 3.48   31.    ]\n",
      " [ 3.19   13.    ]\n",
      " [ 3.42   39.    ]\n",
      " [ 3.35   26.    ]\n",
      " [ 3.62   38.    ]\n",
      " [ 3.3     6.    ]\n",
      " [ 3.22   16.    ]\n",
      " [ 3.15   35.    ]\n",
      " [ 3.22   36.    ]\n",
      " [ 3.38   22.    ]\n",
      " [ 3.4    41.    ]\n",
      " [ 3.47   53.    ]\n",
      " [ 3.71   11.    ]\n",
      " [ 3.21    3.    ]\n",
      " [ 3.6    42.    ]\n",
      " [ 3.3    33.    ]\n",
      " [ 3.23   17.    ]\n",
      " [ 3.44   50.    ]\n",
      " [ 3.17   44.    ]\n",
      " [ 3.32    9.    ]\n",
      " [ 3.4    37.    ]\n",
      " [ 3.32   40.    ]\n",
      " [ 3.4    15.    ]\n",
      " [ 3.26   46.    ]\n",
      " [ 3.13   29.    ]\n",
      " [ 3.32    2.    ]\n",
      " [ 3.36   30.    ]\n",
      " [ 3.31   34.    ]\n",
      " [ 3.11   48.    ]\n",
      " [ 3.41   21.    ]\n",
      " [ 3.35    5.    ]\n",
      " [ 3.48   55.    ]\n",
      " [ 3.53   19.    ]\n",
      " [ 3.26   49.    ]\n",
      " [ 3.44   43.    ]\n",
      " [ 3.22    7.    ]\n",
      " [ 3.59   52.    ]\n",
      " [ 3.27   27.    ]\n",
      " [ 3.74   12.    ]\n",
      " [ 3.36    1.    ]\n",
      " [ 3.24   51.    ]\n",
      " [ 3.31   45.    ]\n",
      " [ 3.42   40.    ]\n",
      " [ 3.3    28.    ]\n",
      " [ 3.54   31.    ]\n",
      " [ 3.14   39.    ]\n",
      " [ 3.8375 38.    ]\n",
      " [ 2.7775 14.    ]\n",
      " [ 3.42    6.    ]\n",
      " [ 3.09   16.    ]\n",
      " [ 3.12   35.    ]\n",
      " [ 3.44    4.    ]\n",
      " [ 2.93   10.    ]\n",
      " [ 3.31   41.    ]\n",
      " [ 3.67   53.    ]\n",
      " [ 3.46   11.    ]\n",
      " [ 3.55   42.    ]\n",
      " [ 3.48   20.    ]\n",
      " [ 3.22   33.    ]\n",
      " [ 3.37   18.    ]\n",
      " [ 3.32   50.    ]\n",
      " [ 3.59   44.    ]\n",
      " [ 3.46   27.    ]]\n"
     ]
    }
   ],
   "source": [
    "#CARA VARIASI 3 NILAI DAN MATA KULIAH\n",
    "D = df1.iloc[:, [3,2]].values\n",
    "print(D)"
   ]
  },
  {
   "cell_type": "code",
   "execution_count": 75,
   "id": "a4d96b8e",
   "metadata": {},
   "outputs": [
    {
     "data": {
      "image/png": "[encoded data removed]",
      "text/plain": [
       "<Figure size 432x288 with 1 Axes>"
      ]
     },
     "metadata": {
      "needs_background": "light"
     },
     "output_type": "display_data"
    }
   ],
   "source": [
    "kmeans = KMeans(n_clusters = 5, init = 'k-means++', random_state = 42)\n",
    "y_kmeans = kmeans.fit_predict(D)\n",
    "plt.scatter(D[y_kmeans == 0, 0], D[y_kmeans == 0, 1], s = 2, c = 'red', label = 'Cluster 1')\n",
    "plt.scatter(D[y_kmeans == 1, 0], D[y_kmeans == 1, 1], s = 2, c = 'orange', label = 'Cluster 2')\n",
    "plt.scatter(D[y_kmeans == 2, 0], D[y_kmeans == 2, 1], s = 2, c = 'green', label = 'Cluster 3')\n",
    "plt.scatter(D[y_kmeans == 3, 0], D[y_kmeans == 3, 1], s = 2, c = 'cyan', label = 'Cluster 4')\n",
    "plt.scatter(D[y_kmeans == 4, 0], D[y_kmeans == 4, 1], s = 2, c = 'magenta', label = 'Cluster 5')\n",
    "plt.scatter(kmeans.cluster_centers_[:, 0], kmeans.cluster_centers_[:, 1], s = 20, c = 'black', label = 'Centroids')\n",
    "plt.title('Clusters Nilai dan Mata Kuliah')\n",
    "plt.xlabel('Nilai Evaluasi')\n",
    "plt.ylabel('MATA KULIAH (1-51)')\n",
    "plt.legend()\n",
    "plt.show()"
   ]
  },
  {
   "cell_type": "code",
   "execution_count": 76,
   "id": "d0ff24b3",
   "metadata": {},
   "outputs": [
    {
     "name": "stdout",
     "output_type": "stream",
     "text": [
      "Silhouetter Score: 0.546\n"
     ]
    }
   ],
   "source": [
    "score = silhouette_score(D, kmeans.labels_)\n",
    "print('Silhouetter Score: %.3f' % score)"
   ]
  },
  {
   "cell_type": "code",
   "execution_count": 77,
   "id": "a0fe72af",
   "metadata": {},
   "outputs": [
    {
     "name": "stdout",
     "output_type": "stream",
     "text": [
      "Davies-Bouldin Index: 0.525\n"
     ]
    }
   ],
   "source": [
    "db_index = davies_bouldin_score(D, y_kmeans)\n",
    "print('Davies-Bouldin Index: %.3f' % db_index)"
   ]
  },
  {
   "cell_type": "markdown",
   "id": "296dd871",
   "metadata": {},
   "source": [
    "# Algoritma Apriori"
   ]
  },
  {
   "cell_type": "code",
   "execution_count": 53,
   "id": "2d3ec192",
   "metadata": {},
   "outputs": [
    {
     "name": "stdout",
     "output_type": "stream",
     "text": [
      "<class 'pandas.core.frame.DataFrame'>\n",
      "RangeIndex: 151 entries, 0 to 150\n",
      "Data columns (total 4 columns):\n",
      " #   Column        Non-Null Count  Dtype   \n",
      "---  ------        --------------  -----   \n",
      " 0   TAHUN         151 non-null    int64   \n",
      " 1   SEMESTER      151 non-null    int64   \n",
      " 2   MATAKULIAH    151 non-null    category\n",
      " 3   NILAI SURVEY  151 non-null    float64 \n",
      "dtypes: category(1), float64(1), int64(2)\n",
      "memory usage: 6.3 KB\n"
     ]
    }
   ],
   "source": [
    "df1.info()"
   ]
  },
  {
   "cell_type": "code",
   "execution_count": 54,
   "id": "d76d6d9c",
   "metadata": {},
   "outputs": [
    {
     "data": {
      "text/plain": [
       "0     2015,1511,9,3.27\n",
       "1    2015,1511,32,3.09\n",
       "2    2015,1511,40,3.17\n",
       "3    2015,1511,13,3.21\n",
       "4    2015,1511,29,3.18\n",
       "Name: Items, dtype: object"
      ]
     },
     "execution_count": 54,
     "metadata": {},
     "output_type": "execute_result"
    }
   ],
   "source": [
    "df1['Items']=df1['TAHUN'].astype(str)+','+df1['SEMESTER'].astype(str)+','+df1['MATAKULIAH'].astype(str)+','+df1['NILAI SURVEY'].astype(str)\n",
    "df1['Items'].head()"
   ]
  },
  {
   "cell_type": "code",
   "execution_count": 55,
   "id": "9073d6f0",
   "metadata": {},
   "outputs": [
    {
     "data": {
      "text/html": [
       "<div>\n",
       "<style scoped>\n",
       "    .dataframe tbody tr th:only-of-type {\n",
       "        vertical-align: middle;\n",
       "    }\n",
       "\n",
       "    .dataframe tbody tr th {\n",
       "        vertical-align: top;\n",
       "    }\n",
       "\n",
       "    .dataframe thead th {\n",
       "        text-align: right;\n",
       "    }\n",
       "</style>\n",
       "<table border=\"1\" class=\"dataframe\">\n",
       "  <thead>\n",
       "    <tr style=\"text-align: right;\">\n",
       "      <th></th>\n",
       "      <th>Items</th>\n",
       "    </tr>\n",
       "  </thead>\n",
       "  <tbody>\n",
       "    <tr>\n",
       "      <th>0</th>\n",
       "      <td>2015,1511,9,3.27</td>\n",
       "    </tr>\n",
       "    <tr>\n",
       "      <th>1</th>\n",
       "      <td>2015,1511,32,3.09</td>\n",
       "    </tr>\n",
       "    <tr>\n",
       "      <th>2</th>\n",
       "      <td>2015,1511,40,3.17</td>\n",
       "    </tr>\n",
       "    <tr>\n",
       "      <th>3</th>\n",
       "      <td>2015,1511,13,3.21</td>\n",
       "    </tr>\n",
       "    <tr>\n",
       "      <th>4</th>\n",
       "      <td>2015,1511,29,3.18</td>\n",
       "    </tr>\n",
       "    <tr>\n",
       "      <th>...</th>\n",
       "      <td>...</td>\n",
       "    </tr>\n",
       "    <tr>\n",
       "      <th>146</th>\n",
       "      <td>2018,1821,33,3.22</td>\n",
       "    </tr>\n",
       "    <tr>\n",
       "      <th>147</th>\n",
       "      <td>2018,1821,18,3.37</td>\n",
       "    </tr>\n",
       "    <tr>\n",
       "      <th>148</th>\n",
       "      <td>2018,1821,50,3.32</td>\n",
       "    </tr>\n",
       "    <tr>\n",
       "      <th>149</th>\n",
       "      <td>2018,1821,44,3.59</td>\n",
       "    </tr>\n",
       "    <tr>\n",
       "      <th>150</th>\n",
       "      <td>2018,1821,27,3.46</td>\n",
       "    </tr>\n",
       "  </tbody>\n",
       "</table>\n",
       "<p>151 rows × 1 columns</p>\n",
       "</div>"
      ],
      "text/plain": [
       "                 Items\n",
       "0     2015,1511,9,3.27\n",
       "1    2015,1511,32,3.09\n",
       "2    2015,1511,40,3.17\n",
       "3    2015,1511,13,3.21\n",
       "4    2015,1511,29,3.18\n",
       "..                 ...\n",
       "146  2018,1821,33,3.22\n",
       "147  2018,1821,18,3.37\n",
       "148  2018,1821,50,3.32\n",
       "149  2018,1821,44,3.59\n",
       "150  2018,1821,27,3.46\n",
       "\n",
       "[151 rows x 1 columns]"
      ]
     },
     "execution_count": 55,
     "metadata": {},
     "output_type": "execute_result"
    }
   ],
   "source": [
    "df_new1 = df1.drop(['TAHUN','SEMESTER','MATAKULIAH','NILAI SURVEY'],axis=1)\n",
    "df_new1"
   ]
  },
  {
   "cell_type": "code",
   "execution_count": 56,
   "id": "54f8ca73",
   "metadata": {
    "collapsed": true
   },
   "outputs": [
    {
     "data": {
      "text/plain": [
       "[['2015', '1511', '9', '3.27'],\n",
       " ['2015', '1511', '32', '3.09'],\n",
       " ['2015', '1511', '40', '3.17'],\n",
       " ['2015', '1511', '13', '3.21'],\n",
       " ['2015', '1511', '29', '3.18'],\n",
       " ['2015', '1511', '15', '3.26'],\n",
       " ['2015', '1511', '46', '2.99'],\n",
       " ['2015', '1511', '25', '3.34'],\n",
       " ['2015', '1511', '16', '3.32'],\n",
       " ['2015', '1511', '36', '3.54'],\n",
       " ['2015', '1511', '30', '3.12'],\n",
       " ['2015', '1511', '48', '3.35'],\n",
       " ['2015', '1511', '21', '3.3'],\n",
       " ['2015', '1511', '49', '3.08'],\n",
       " ['2015', '1511', '43', '3.41'],\n",
       " ['2015', '1511', '17', '3.3'],\n",
       " ['2015', '1511', '52', '3.58'],\n",
       " ['2015', '1511', '54', '3.27'],\n",
       " ['2015', '1511', '12', '3.63'],\n",
       " ['2015', '1511', '8', '3.52'],\n",
       " ['2015', '1511', '45', '3.28'],\n",
       " ['2015', '1521', '40', '2.96'],\n",
       " ['2015', '1521', '28', '3.3'],\n",
       " ['2015', '1521', '13', '3.05'],\n",
       " ['2015', '1521', '39', '3.01'],\n",
       " ['2015', '1521', '26', '3.17'],\n",
       " ['2015', '1521', '38', '3.6'],\n",
       " ['2015', '1521', '25', '3.11'],\n",
       " ['2015', '1521', '16', '3.08'],\n",
       " ['2015', '1521', '35', '2.96'],\n",
       " ['2015', '1521', '36', '3.09'],\n",
       " ['2015', '1521', '22', '3.04'],\n",
       " ['2015', '1521', '24', '3.47'],\n",
       " ['2015', '1521', '41', '3.45'],\n",
       " ['2015', '1521', '11', '3.7'],\n",
       " ['2015', '1521', '42', '3.48'],\n",
       " ['2015', '1521', '33', '3.24'],\n",
       " ['2015', '1521', '50', '3.23'],\n",
       " ['2015', '1521', '44', '3.38'],\n",
       " ['2016', '1611', '47', '3.53'],\n",
       " ['2016', '1611', '32', '3.15'],\n",
       " ['2016', '1611', '40', '3.36'],\n",
       " ['2016', '1611', '39', '3.66'],\n",
       " ['2016', '1611', '29', '2.7775'],\n",
       " ['2016', '1611', '15', '3.3'],\n",
       " ['2016', '1611', '46', '3.31'],\n",
       " ['2016', '1611', '30', '3.13'],\n",
       " ['2016', '1611', '36', '3.36'],\n",
       " ['2016', '1611', '34', '2.97'],\n",
       " ['2016', '1611', '56', '3.35'],\n",
       " ['2016', '1611', '48', '3.2'],\n",
       " ['2016', '1611', '21', '3.24'],\n",
       " ['2016', '1611', '23', '3.04'],\n",
       " ['2016', '1611', '49', '3.37'],\n",
       " ['2016', '1611', '43', '3.24'],\n",
       " ['2016', '1611', '18', '3.33'],\n",
       " ['2016', '1611', '52', '3.32'],\n",
       " ['2016', '1611', '54', '3.28'],\n",
       " ['2016', '1611', '12', '3.43'],\n",
       " ['2016', '1611', '51', '3.12'],\n",
       " ['2016', '1611', '45', '3.37'],\n",
       " ['2016', '1621', '40', '3.44'],\n",
       " ['2016', '1621', '28', '3.1'],\n",
       " ['2016', '1621', '13', '3.21'],\n",
       " ['2016', '1621', '39', '2.7775'],\n",
       " ['2016', '1621', '26', '3.35'],\n",
       " ['2016', '1621', '38', '3.67'],\n",
       " ['2016', '1621', '6', '3.25'],\n",
       " ['2016', '1621', '16', '3.23'],\n",
       " ['2016', '1621', '35', '2.7775'],\n",
       " ['2016', '1621', '36', '3.05'],\n",
       " ['2016', '1621', '22', '3.16'],\n",
       " ['2016', '1621', '41', '2.7775'],\n",
       " ['2016', '1621', '53', '3.77'],\n",
       " ['2016', '1621', '11', '3.79'],\n",
       " ['2016', '1621', '3', '2.96'],\n",
       " ['2016', '1621', '42', '3.79'],\n",
       " ['2016', '1621', '33', '3.8'],\n",
       " ['2016', '1621', '18', '3.83'],\n",
       " ['2016', '1621', '44', '2.79'],\n",
       " ['2016', '1621', '27', '3.8375000000000004'],\n",
       " ['2017', '1711', '9', '3.31'],\n",
       " ['2017', '1711', '32', '3.0'],\n",
       " ['2017', '1711', '21', '3.43'],\n",
       " ['2017', '1711', '43', '3.8375000000000004'],\n",
       " ['2017', '1711', '45', '3.29'],\n",
       " ['2017', '1721', '40', '3.38'],\n",
       " ['2017', '1721', '28', '3.22'],\n",
       " ['2017', '1721', '31', '3.48'],\n",
       " ['2017', '1721', '13', '3.19'],\n",
       " ['2017', '1721', '39', '3.42'],\n",
       " ['2017', '1721', '26', '3.35'],\n",
       " ['2017', '1721', '38', '3.62'],\n",
       " ['2017', '1721', '6', '3.3'],\n",
       " ['2017', '1721', '16', '3.22'],\n",
       " ['2017', '1721', '35', '3.15'],\n",
       " ['2017', '1721', '36', '3.22'],\n",
       " ['2017', '1721', '22', '3.38'],\n",
       " ['2017', '1721', '41', '3.4'],\n",
       " ['2017', '1721', '53', '3.47'],\n",
       " ['2017', '1721', '11', '3.71'],\n",
       " ['2017', '1721', '3', '3.21'],\n",
       " ['2017', '1721', '42', '3.6'],\n",
       " ['2017', '1721', '33', '3.3'],\n",
       " ['2017', '1721', '17', '3.23'],\n",
       " ['2017', '1721', '50', '3.44'],\n",
       " ['2017', '1721', '44', '3.17'],\n",
       " ['2018', '1811', '9', '3.32'],\n",
       " ['2018', '1811', '37', '3.4'],\n",
       " ['2018', '1811', '40', '3.32'],\n",
       " ['2018', '1811', '15', '3.4'],\n",
       " ['2018', '1811', '46', '3.26'],\n",
       " ['2018', '1811', '29', '3.13'],\n",
       " ['2018', '1811', '2', '3.32'],\n",
       " ['2018', '1811', '30', '3.36'],\n",
       " ['2018', '1811', '34', '3.31'],\n",
       " ['2018', '1811', '48', '3.11'],\n",
       " ['2018', '1811', '21', '3.41'],\n",
       " ['2018', '1811', '5', '3.35'],\n",
       " ['2018', '1811', '55', '3.48'],\n",
       " ['2018', '1811', '19', '3.53'],\n",
       " ['2018', '1811', '49', '3.26'],\n",
       " ['2018', '1811', '43', '3.44'],\n",
       " ['2018', '1811', '7', '3.22'],\n",
       " ['2018', '1811', '52', '3.59'],\n",
       " ['2018', '1811', '27', '3.27'],\n",
       " ['2018', '1811', '12', '3.74'],\n",
       " ['2018', '1811', '1', '3.36'],\n",
       " ['2018', '1811', '51', '3.24'],\n",
       " ['2018', '1811', '45', '3.31'],\n",
       " ['2018', '1821', '40', '3.42'],\n",
       " ['2018', '1821', '28', '3.3'],\n",
       " ['2018', '1821', '31', '3.54'],\n",
       " ['2018', '1821', '39', '3.14'],\n",
       " ['2018', '1821', '38', '3.8375000000000004'],\n",
       " ['2018', '1821', '14', '2.7775'],\n",
       " ['2018', '1821', '6', '3.42'],\n",
       " ['2018', '1821', '16', '3.09'],\n",
       " ['2018', '1821', '35', '3.12'],\n",
       " ['2018', '1821', '4', '3.44'],\n",
       " ['2018', '1821', '10', '2.93'],\n",
       " ['2018', '1821', '41', '3.31'],\n",
       " ['2018', '1821', '53', '3.67'],\n",
       " ['2018', '1821', '11', '3.46'],\n",
       " ['2018', '1821', '42', '3.55'],\n",
       " ['2018', '1821', '20', '3.48'],\n",
       " ['2018', '1821', '33', '3.22'],\n",
       " ['2018', '1821', '18', '3.37'],\n",
       " ['2018', '1821', '50', '3.32'],\n",
       " ['2018', '1821', '44', '3.59'],\n",
       " ['2018', '1821', '27', '3.46']]"
      ]
     },
     "execution_count": 56,
     "metadata": {},
     "output_type": "execute_result"
    }
   ],
   "source": [
    "records = []\n",
    "for i in range(df_new1.shape[0]):\n",
    "    records.append([str(df_new1.values[i,j]).split(',') for j in range(df_new1.shape[1])])\n",
    "\n",
    "trx = [[] for trx in range(len(records))]\n",
    "for i in range(len(records)):\n",
    "    for j in records[i][0]:\n",
    "        trx[i].append(j)\n",
    "trx"
   ]
  },
  {
   "cell_type": "code",
   "execution_count": 57,
   "id": "4cb1f46e",
   "metadata": {},
   "outputs": [
    {
     "name": "stdout",
     "output_type": "stream",
     "text": [
      "2\n"
     ]
    }
   ],
   "source": [
    "association_rules = apriori(trx, min_support=0.14, min_confidence=0.2, min_lift=3, min_length=2)\n",
    "association_results = list(association_rules)\n",
    "print(len(association_results))"
   ]
  },
  {
   "cell_type": "code",
   "execution_count": 58,
   "id": "cddc1a29",
   "metadata": {},
   "outputs": [
    {
     "name": "stderr",
     "output_type": "stream",
     "text": [
      "C:\\Users\\Justin Thames\\AppData\\Local\\Temp\\ipykernel_1652\\416014087.py:8: FutureWarning: The frame.append method is deprecated and will be removed from pandas in a future version. Use pandas.concat instead.\n",
      "  Result=Result.append({\n",
      "C:\\Users\\Justin Thames\\AppData\\Local\\Temp\\ipykernel_1652\\416014087.py:8: FutureWarning: The frame.append method is deprecated and will be removed from pandas in a future version. Use pandas.concat instead.\n",
      "  Result=Result.append({\n",
      "C:\\Users\\Justin Thames\\AppData\\Local\\Temp\\ipykernel_1652\\416014087.py:8: FutureWarning: The frame.append method is deprecated and will be removed from pandas in a future version. Use pandas.concat instead.\n",
      "  Result=Result.append({\n",
      "C:\\Users\\Justin Thames\\AppData\\Local\\Temp\\ipykernel_1652\\416014087.py:8: FutureWarning: The frame.append method is deprecated and will be removed from pandas in a future version. Use pandas.concat instead.\n",
      "  Result=Result.append({\n"
     ]
    },
    {
     "data": {
      "text/html": [
       "<div>\n",
       "<style scoped>\n",
       "    .dataframe tbody tr th:only-of-type {\n",
       "        vertical-align: middle;\n",
       "    }\n",
       "\n",
       "    .dataframe tbody tr th {\n",
       "        vertical-align: top;\n",
       "    }\n",
       "\n",
       "    .dataframe thead th {\n",
       "        text-align: right;\n",
       "    }\n",
       "</style>\n",
       "<table border=\"1\" class=\"dataframe\">\n",
       "  <thead>\n",
       "    <tr style=\"text-align: right;\">\n",
       "      <th></th>\n",
       "      <th>Rule</th>\n",
       "      <th>Support</th>\n",
       "      <th>Confidence</th>\n",
       "    </tr>\n",
       "  </thead>\n",
       "  <tbody>\n",
       "    <tr>\n",
       "      <th>0</th>\n",
       "      <td>['1611'] -&gt; ['2016']</td>\n",
       "      <td>14.57%</td>\n",
       "      <td>100.0%</td>\n",
       "    </tr>\n",
       "    <tr>\n",
       "      <th>1</th>\n",
       "      <td>['2016'] -&gt; ['1611']</td>\n",
       "      <td>14.57%</td>\n",
       "      <td>52.38%</td>\n",
       "    </tr>\n",
       "    <tr>\n",
       "      <th>2</th>\n",
       "      <td>['1811'] -&gt; ['2018']</td>\n",
       "      <td>15.23%</td>\n",
       "      <td>100.0%</td>\n",
       "    </tr>\n",
       "    <tr>\n",
       "      <th>3</th>\n",
       "      <td>['2018'] -&gt; ['1811']</td>\n",
       "      <td>15.23%</td>\n",
       "      <td>52.27%</td>\n",
       "    </tr>\n",
       "  </tbody>\n",
       "</table>\n",
       "</div>"
      ],
      "text/plain": [
       "                   Rule Support Confidence\n",
       "0  ['1611'] -> ['2016']  14.57%     100.0%\n",
       "1  ['2016'] -> ['1611']  14.57%     52.38%\n",
       "2  ['1811'] -> ['2018']  15.23%     100.0%\n",
       "3  ['2018'] -> ['1811']  15.23%     52.27%"
      ]
     },
     "execution_count": 58,
     "metadata": {},
     "output_type": "execute_result"
    }
   ],
   "source": [
    "pd.set_option('max_colwidth', 1000)\n",
    "Result=pd.DataFrame(columns=['Rule','Support','Confidence'])\n",
    "for item in association_results:\n",
    "    pair = item[2]\n",
    "    for i in pair:\n",
    "        items = str([x for x in i[0]])\n",
    "        if i[3]!=1:\n",
    "            Result=Result.append({\n",
    "                'Rule':str([x for x in i[0]])+ \" -> \" +str([x for x in i[1]]),\n",
    "                'Support':str(round(item[1]*100,2))+'%',\n",
    "                'Confidence':str(round(i[2] *100,2))+'%'\n",
    "                },ignore_index=True)\n",
    "Result"
   ]
  },
  {
   "cell_type": "code",
   "execution_count": null,
   "id": "e5df8e2f",
   "metadata": {},
   "outputs": [],
   "source": []
  }
 ],
 "metadata": {
  "kernelspec": {
   "display_name": "Python 3 (ipykernel)",
   "language": "python",
   "name": "python3"
  },
  "language_info": {
   "codemirror_mode": {
    "name": "ipython",
    "version": 3
   },
   "file_extension": ".py",
   "mimetype": "text/x-python",
   "name": "python",
   "nbconvert_exporter": "python",
   "pygments_lexer": "ipython3",
   "version": "3.10.2"
  }
 },
 "nbformat": 4,
 "nbformat_minor": 5
}

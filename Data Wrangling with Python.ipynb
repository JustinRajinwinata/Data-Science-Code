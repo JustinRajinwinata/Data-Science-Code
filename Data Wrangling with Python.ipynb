{
 "cells": [
  {
   "cell_type": "code",
   "execution_count": 13,
   "id": "b95061fe",
   "metadata": {},
   "outputs": [
    {
     "name": "stdout",
     "output_type": "stream",
     "text": [
      "     CustomerID   Genre  Age  Annual Income (k$)  Spending Score (1-100)\n",
      "0             1    Male   19                  15                      39\n",
      "1             2    Male   21                  15                      81\n",
      "2             3  Female   20                  16                       6\n",
      "3             4  Female   23                  16                      77\n",
      "4             5  Female   31                  17                      40\n",
      "..          ...     ...  ...                 ...                     ...\n",
      "195         196  Female   35                 120                      79\n",
      "196         197  Female   45                 126                      28\n",
      "197         198    Male   32                 126                      74\n",
      "198         199    Male   32                 137                      18\n",
      "199         200    Male   30                 137                      83\n",
      "\n",
      "[200 rows x 5 columns]\n"
     ]
    }
   ],
   "source": [
    "import pandas as pd\n",
    "import warnings\n",
    "warnings.filterwarnings(\"ignore\")\n",
    "csv_data = pd.read_csv(\"https://storage.googleapis.com/dqlab-dataset/shopping_data.csv\")\n",
    "print(csv_data)"
   ]
  },
  {
   "cell_type": "code",
   "execution_count": 2,
   "id": "ac69e401",
   "metadata": {},
   "outputs": [
    {
     "name": "stdout",
     "output_type": "stream",
     "text": [
      "   CustomerID   Genre  Age  Annual Income (k$)  Spending Score (1-100)\n",
      "0           1    Male   19                  15                      39\n",
      "1           2    Male   21                  15                      81\n",
      "2           3  Female   20                  16                       6\n",
      "3           4  Female   23                  16                      77\n",
      "4           5  Female   31                  17                      40\n"
     ]
    }
   ],
   "source": [
    "print(csv_data.head())"
   ]
  },
  {
   "cell_type": "code",
   "execution_count": 3,
   "id": "3901da96",
   "metadata": {},
   "outputs": [
    {
     "name": "stdout",
     "output_type": "stream",
     "text": [
      "Index(['CustomerID', 'Genre', 'Age', 'Annual Income (k$)',\n",
      "       'Spending Score (1-100)'],\n",
      "      dtype='object')\n"
     ]
    }
   ],
   "source": [
    "print(csv_data.columns)"
   ]
  },
  {
   "cell_type": "code",
   "execution_count": 4,
   "id": "93f3e639",
   "metadata": {},
   "outputs": [
    {
     "name": "stdout",
     "output_type": "stream",
     "text": [
      "0      19\n",
      "1      21\n",
      "2      20\n",
      "3      23\n",
      "4      31\n",
      "       ..\n",
      "195    35\n",
      "196    45\n",
      "197    32\n",
      "198    32\n",
      "199    30\n",
      "Name: Age, Length: 200, dtype: int64\n"
     ]
    }
   ],
   "source": [
    "print(csv_data[\"Age\"])"
   ]
  },
  {
   "cell_type": "code",
   "execution_count": 5,
   "id": "50ce0d19",
   "metadata": {},
   "outputs": [
    {
     "name": "stdout",
     "output_type": "stream",
     "text": [
      "CustomerID                     6\n",
      "Genre                     Female\n",
      "Age                           22\n",
      "Annual Income (k$)            17\n",
      "Spending Score (1-100)        76\n",
      "Name: 5, dtype: object\n"
     ]
    }
   ],
   "source": [
    "print(csv_data.iloc[5])"
   ]
  },
  {
   "cell_type": "code",
   "execution_count": 6,
   "id": "5d423e76",
   "metadata": {},
   "outputs": [
    {
     "name": "stdout",
     "output_type": "stream",
     "text": [
      "21\n"
     ]
    }
   ],
   "source": [
    "print(csv_data[\"Age\"].iloc[1])"
   ]
  },
  {
   "cell_type": "code",
   "execution_count": 7,
   "id": "75c648cf",
   "metadata": {},
   "outputs": [
    {
     "name": "stdout",
     "output_type": "stream",
     "text": [
      "Shows data to 5th to less than 10th in a row:\n",
      "   CustomerID   Genre  Age  Annual Income (k$)  Spending Score (1-100)\n",
      "5           6  Female   22                  17                      76\n",
      "6           7  Female   35                  18                       6\n",
      "7           8  Female   23                  18                      94\n",
      "8           9    Male   64                  19                       3\n",
      "9          10  Female   30                  19                      72\n"
     ]
    }
   ],
   "source": [
    "print(\"Shows data to 5th to less than 10th in a row:\")\n",
    "print(csv_data.iloc[5:10])"
   ]
  },
  {
   "cell_type": "code",
   "execution_count": 8,
   "id": "4831d918",
   "metadata": {},
   "outputs": [
    {
     "name": "stdout",
     "output_type": "stream",
     "text": [
      "        CustomerID   Genre         Age  Annual Income (k$)  \\\n",
      "count   200.000000     200  200.000000          200.000000   \n",
      "unique         NaN       2         NaN                 NaN   \n",
      "top            NaN  Female         NaN                 NaN   \n",
      "freq           NaN     112         NaN                 NaN   \n",
      "mean    100.500000     NaN   38.850000           60.560000   \n",
      "std      57.879185     NaN   13.969007           26.264721   \n",
      "min       1.000000     NaN   18.000000           15.000000   \n",
      "25%      50.750000     NaN   28.750000           41.500000   \n",
      "50%     100.500000     NaN   36.000000           61.500000   \n",
      "75%     150.250000     NaN   49.000000           78.000000   \n",
      "max     200.000000     NaN   70.000000          137.000000   \n",
      "\n",
      "        Spending Score (1-100)  \n",
      "count               200.000000  \n",
      "unique                     NaN  \n",
      "top                        NaN  \n",
      "freq                       NaN  \n",
      "mean                 50.200000  \n",
      "std                  25.823522  \n",
      "min                   1.000000  \n",
      "25%                  34.750000  \n",
      "50%                  50.000000  \n",
      "75%                  73.000000  \n",
      "max                  99.000000  \n"
     ]
    }
   ],
   "source": [
    "print(csv_data.describe(include=\"all\"))"
   ]
  },
  {
   "cell_type": "code",
   "execution_count": 9,
   "id": "545bf95d",
   "metadata": {},
   "outputs": [
    {
     "name": "stdout",
     "output_type": "stream",
     "text": [
      "       CustomerID         Age  Annual Income (k$)  Spending Score (1-100)\n",
      "count  200.000000  200.000000          200.000000              200.000000\n",
      "mean   100.500000   38.850000           60.560000               50.200000\n",
      "std     57.879185   13.969007           26.264721               25.823522\n",
      "min      1.000000   18.000000           15.000000                1.000000\n",
      "25%     50.750000   28.750000           41.500000               34.750000\n",
      "50%    100.500000   36.000000           61.500000               50.000000\n",
      "75%    150.250000   49.000000           78.000000               73.000000\n",
      "max    200.000000   70.000000          137.000000               99.000000\n"
     ]
    }
   ],
   "source": [
    "print(csv_data.describe(exclude=[\"O\"]))"
   ]
  },
  {
   "cell_type": "code",
   "execution_count": 10,
   "id": "ed0c56d2",
   "metadata": {},
   "outputs": [
    {
     "name": "stdout",
     "output_type": "stream",
     "text": [
      "False\n"
     ]
    }
   ],
   "source": [
    "print(csv_data.isnull().values.any())"
   ]
  },
  {
   "cell_type": "code",
   "execution_count": 11,
   "id": "4a76fb9b",
   "metadata": {},
   "outputs": [
    {
     "name": "stdout",
     "output_type": "stream",
     "text": [
      "True\n"
     ]
    }
   ],
   "source": [
    "data_missing = pd.read_csv(\"https://storage.googleapis.com/dqlab-dataset/shopping_data_missingvalue.csv\")\n",
    "print(data_missing.isnull().values.any())"
   ]
  },
  {
   "cell_type": "code",
   "execution_count": 14,
   "id": "19415bc6",
   "metadata": {},
   "outputs": [
    {
     "name": "stdout",
     "output_type": "stream",
     "text": [
      "CustomerID                100.500000\n",
      "Age                        38.939698\n",
      "Annual Income (k$)         61.005051\n",
      "Spending Score (1-100)     50.489899\n",
      "dtype: float64\n"
     ]
    }
   ],
   "source": [
    "print(data_missing.mean())"
   ]
  },
  {
   "cell_type": "code",
   "execution_count": 15,
   "id": "6ffaa58b",
   "metadata": {},
   "outputs": [
    {
     "name": "stdout",
     "output_type": "stream",
     "text": [
      "Dataset with empty values! :\n",
      "   CustomerID   Genre   Age  Annual Income (k$)  Spending Score (1-100)\n",
      "0           1    Male  19.0                15.0                    39.0\n",
      "1           2    Male   NaN                15.0                    81.0\n",
      "2           3  Female  20.0                 NaN                     6.0\n",
      "3           4  Female  23.0                16.0                    77.0\n",
      "4           5  Female  31.0                17.0                     NaN\n",
      "5           6  Female  22.0                 NaN                    76.0\n",
      "6           7  Female  35.0                18.0                     6.0\n",
      "7           8  Female  23.0                18.0                    94.0\n",
      "8           9    Male  64.0                19.0                     NaN\n",
      "9          10  Female  30.0                19.0                    72.0\n",
      "Dataset that has been processed Handling Missing Values with Mean :\n",
      "   CustomerID   Genre    Age  Annual Income (k$)  Spending Score (1-100)\n",
      "0           1    Male  19.00               15.00                    39.0\n",
      "1           2    Male  38.85               15.00                    81.0\n",
      "2           3  Female  20.00               60.56                     6.0\n",
      "3           4  Female  23.00               16.00                    77.0\n",
      "4           5  Female  31.00               17.00                    50.2\n",
      "5           6  Female  22.00               60.56                    76.0\n",
      "6           7  Female  35.00               18.00                     6.0\n",
      "7           8  Female  23.00               18.00                    94.0\n",
      "8           9    Male  64.00               19.00                    50.2\n",
      "9          10  Female  30.00               19.00                    72.0\n"
     ]
    }
   ],
   "source": [
    "print(\"Dataset with empty values! :\")\n",
    "print(data_missing.head(10))\n",
    "\n",
    "data_filling=data_missing.fillna(csv_data.mean())\n",
    "print(\"Dataset that has been processed Handling Missing Values with Mean :\")\n",
    "print(data_filling.head(10))"
   ]
  },
  {
   "cell_type": "code",
   "execution_count": 16,
   "id": "e84b94f0",
   "metadata": {},
   "outputs": [
    {
     "name": "stdout",
     "output_type": "stream",
     "text": [
      "CustomerID                100.5\n",
      "Age                        36.0\n",
      "Annual Income (k$)         62.0\n",
      "Spending Score (1-100)     50.0\n",
      "dtype: float64\n",
      "Dataset with empty values! :\n",
      "   CustomerID   Genre   Age  Annual Income (k$)  Spending Score (1-100)\n",
      "0           1    Male  19.0                15.0                    39.0\n",
      "1           2    Male   NaN                15.0                    81.0\n",
      "2           3  Female  20.0                 NaN                     6.0\n",
      "3           4  Female  23.0                16.0                    77.0\n",
      "4           5  Female  31.0                17.0                     NaN\n",
      "5           6  Female  22.0                 NaN                    76.0\n",
      "6           7  Female  35.0                18.0                     6.0\n",
      "7           8  Female  23.0                18.0                    94.0\n",
      "8           9    Male  64.0                19.0                     NaN\n",
      "9          10  Female  30.0                19.0                    72.0\n",
      "Dataset that has been processed Handling Missing Values with Median :\n",
      "   CustomerID   Genre   Age  Annual Income (k$)  Spending Score (1-100)\n",
      "0           1    Male  19.0                15.0                    39.0\n",
      "1           2    Male  36.0                15.0                    81.0\n",
      "2           3  Female  20.0                61.5                     6.0\n",
      "3           4  Female  23.0                16.0                    77.0\n",
      "4           5  Female  31.0                17.0                    50.0\n",
      "5           6  Female  22.0                61.5                    76.0\n",
      "6           7  Female  35.0                18.0                     6.0\n",
      "7           8  Female  23.0                18.0                    94.0\n",
      "8           9    Male  64.0                19.0                    50.0\n",
      "9          10  Female  30.0                19.0                    72.0\n"
     ]
    }
   ],
   "source": [
    "print(data_missing.median())\n",
    "print(\"Dataset with empty values! :\")\n",
    "print(data_missing.head(10))\n",
    "\n",
    "data_filling2=data_missing.fillna(csv_data.median())\n",
    "print(\"Dataset that has been processed Handling Missing Values with Median :\")\n",
    "print(data_filling2.head(10))"
   ]
  },
  {
   "cell_type": "code",
   "execution_count": 17,
   "id": "a5b433f8",
   "metadata": {},
   "outputs": [],
   "source": [
    "import numpy as np\n",
    "from sklearn import preprocessing\n",
    "\n",
    "csv_data = pd.read_csv(\"https://storage.googleapis.com/dqlab-dataset/shopping_data.csv\")\n",
    "array = csv_data.values"
   ]
  },
  {
   "cell_type": "code",
   "execution_count": 18,
   "id": "e66666c0",
   "metadata": {},
   "outputs": [
    {
     "name": "stdout",
     "output_type": "stream",
     "text": [
      "Dataset Before Normalization :\n",
      "  Customer ID  Gender Age Income Spending Score\n",
      "0           1    Male  19     15             39\n",
      "1           2    Male  21     15             81\n",
      "2           3  Female  20     16              6\n",
      "3           4  Female  23     16             77\n",
      "4           5  Female  31     17             40\n",
      "5           6  Female  22     17             76\n",
      "6           7  Female  35     18              6\n",
      "7           8  Female  23     18             94\n",
      "8           9    Male  64     19              3\n",
      "9          10  Female  30     19             72\n",
      "dataset after normalization :\n",
      "        Age    Income  Spending Score Customer ID  Gender\n",
      "0  0.019231  0.000000        0.387755           1    Male\n",
      "1  0.057692  0.000000        0.816327           2    Male\n",
      "2  0.038462  0.008197        0.051020           3  Female\n",
      "3  0.096154  0.008197        0.775510           4  Female\n",
      "4  0.250000  0.016393        0.397959           5  Female\n",
      "5  0.076923  0.016393        0.765306           6  Female\n",
      "6  0.326923  0.024590        0.051020           7  Female\n",
      "7  0.096154  0.024590        0.948980           8  Female\n",
      "8  0.884615  0.032787        0.020408           9    Male\n",
      "9  0.230769  0.032787        0.724490          10  Female\n"
     ]
    }
   ],
   "source": [
    "#X contains the features that are used to normalize with the min-max scaler technique\n",
    "X = array[:,2:5] #separate features from dataset.\n",
    "Y = array[:,0:1] #separate class from dataset\n",
    "\n",
    "dataset=pd.DataFrame({\"Customer ID\":array[:,0],\"Gender\":array[:,1],\"Age\":array[:,2],\"Income\":array[:,3 ],\"Spending Score\":array[:,4]})\n",
    "print(\"Dataset Before Normalization :\")\n",
    "print(dataset.head(10))\n",
    "\n",
    "min_max_scaler = preprocessing.MinMaxScaler(feature_range=(0,1)) #initialize MinMax normalization\n",
    "data = min_max_scaler.fit_transform(X) #MinMax transformation for features\n",
    "dataset = pd.DataFrame({\"Age\":data[:,0],\"Income\":data[:,1],\"Spending Score\":data[:,2],\"Customer ID\":array[:, 0],\"Gender\":array[:,1]})\n",
    "\n",
    "print(\"dataset after normalization :\")\n",
    "print(dataset.head(10))"
   ]
  }
 ],
 "metadata": {
  "kernelspec": {
   "display_name": "Python 3 (ipykernel)",
   "language": "python",
   "name": "python3"
  },
  "language_info": {
   "codemirror_mode": {
    "name": "ipython",
    "version": 3
   },
   "file_extension": ".py",
   "mimetype": "text/x-python",
   "name": "python",
   "nbconvert_exporter": "python",
   "pygments_lexer": "ipython3",
   "version": "3.10.2"
  }
 },
 "nbformat": 4,
 "nbformat_minor": 5
}
